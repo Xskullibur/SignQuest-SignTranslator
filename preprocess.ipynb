{
 "cells": [
  {
   "cell_type": "code",
   "execution_count": 1,
   "metadata": {
    "collapsed": true,
    "pycharm": {
     "name": "#%%\n",
     "is_executing": false
    }
   },
   "outputs": [],
   "source": [
    "import pandas as pd\n",
    "import numpy as np\n",
    "import os\n",
    "import json\n",
    "\n",
    "JSON_FILE = 'D:\\Documents\\Education\\Diploma Competitions\\Splash Awards 2020\\SignQuest-SignTranslator\\input\\WLASL_v0.3.json'\n",
    "OUTPUT_FILE = 'D:\\Documents\\Education\\Diploma Competitions\\Splash Awards 2020\\SignQuest-SignTranslator\\output\\WLASL.csv'"
   ]
  },
  {
   "cell_type": "code",
   "execution_count": 2,
   "outputs": [
    {
     "data": {
      "text/plain": "'D:\\\\Documents\\\\Education\\\\Diploma Competitions\\\\Splash Awards 2020\\\\SignQuest-SignTranslator\\\\input\\\\WLASL_v0.3.json'"
     },
     "metadata": {},
     "output_type": "execute_result",
     "execution_count": 2
    }
   ],
   "source": [
    "JSON_FILE"
   ],
   "metadata": {
    "collapsed": false,
    "pycharm": {
     "name": "#%%\n",
     "is_executing": false
    }
   }
  },
  {
   "cell_type": "code",
   "execution_count": 3,
   "outputs": [
    {
     "data": {
      "text/plain": "'D:\\\\Documents\\\\Education\\\\Diploma Competitions\\\\Splash Awards 2020\\\\SignQuest-SignTranslator\\\\output\\\\WLASL.csv'"
     },
     "metadata": {},
     "output_type": "execute_result",
     "execution_count": 3
    }
   ],
   "source": [
    "OUTPUT_FILE\n"
   ],
   "metadata": {
    "collapsed": false,
    "pycharm": {
     "name": "#%%\n",
     "is_executing": false
    }
   }
  },
  {
   "cell_type": "code",
   "execution_count": 12,
   "outputs": [
    {
     "data": {
      "text/plain": "           gloss                                          instances\n0           book  [{'bbox': [385, 37, 885, 720], 'fps': 25, 'fra...\n1          drink  [{'bbox': [551, 68, 1350, 1080], 'fps': 25, 'f...\n2       computer  [{'bbox': [0, 0, 360, 240], 'fps': 25, 'frame_...\n3         before  [{'bbox': [0, 0, 360, 240], 'fps': 25, 'frame_...\n4          chair  [{'bbox': [0, 0, 360, 240], 'fps': 25, 'frame_...\n...          ...                                                ...\n1995  washington  [{'bbox': [0, 0, 360, 240], 'fps': 25, 'frame_...\n1996   waterfall  [{'bbox': [0, 0, 360, 240], 'fps': 25, 'frame_...\n1997       weigh  [{'bbox': [0, 0, 360, 240], 'fps': 25, 'frame_...\n1998  wheelchair  [{'bbox': [415, 86, 1811, 1080], 'fps': 25, 'f...\n1999     whistle  [{'bbox': [0, 0, 360, 240], 'fps': 25, 'frame_...\n\n[2000 rows x 2 columns]",
      "text/html": "<div>\n<style scoped>\n    .dataframe tbody tr th:only-of-type {\n        vertical-align: middle;\n    }\n\n    .dataframe tbody tr th {\n        vertical-align: top;\n    }\n\n    .dataframe thead th {\n        text-align: right;\n    }\n</style>\n<table border=\"1\" class=\"dataframe\">\n  <thead>\n    <tr style=\"text-align: right;\">\n      <th></th>\n      <th>gloss</th>\n      <th>instances</th>\n    </tr>\n  </thead>\n  <tbody>\n    <tr>\n      <th>0</th>\n      <td>book</td>\n      <td>[{'bbox': [385, 37, 885, 720], 'fps': 25, 'fra...</td>\n    </tr>\n    <tr>\n      <th>1</th>\n      <td>drink</td>\n      <td>[{'bbox': [551, 68, 1350, 1080], 'fps': 25, 'f...</td>\n    </tr>\n    <tr>\n      <th>2</th>\n      <td>computer</td>\n      <td>[{'bbox': [0, 0, 360, 240], 'fps': 25, 'frame_...</td>\n    </tr>\n    <tr>\n      <th>3</th>\n      <td>before</td>\n      <td>[{'bbox': [0, 0, 360, 240], 'fps': 25, 'frame_...</td>\n    </tr>\n    <tr>\n      <th>4</th>\n      <td>chair</td>\n      <td>[{'bbox': [0, 0, 360, 240], 'fps': 25, 'frame_...</td>\n    </tr>\n    <tr>\n      <th>...</th>\n      <td>...</td>\n      <td>...</td>\n    </tr>\n    <tr>\n      <th>1995</th>\n      <td>washington</td>\n      <td>[{'bbox': [0, 0, 360, 240], 'fps': 25, 'frame_...</td>\n    </tr>\n    <tr>\n      <th>1996</th>\n      <td>waterfall</td>\n      <td>[{'bbox': [0, 0, 360, 240], 'fps': 25, 'frame_...</td>\n    </tr>\n    <tr>\n      <th>1997</th>\n      <td>weigh</td>\n      <td>[{'bbox': [0, 0, 360, 240], 'fps': 25, 'frame_...</td>\n    </tr>\n    <tr>\n      <th>1998</th>\n      <td>wheelchair</td>\n      <td>[{'bbox': [415, 86, 1811, 1080], 'fps': 25, 'f...</td>\n    </tr>\n    <tr>\n      <th>1999</th>\n      <td>whistle</td>\n      <td>[{'bbox': [0, 0, 360, 240], 'fps': 25, 'frame_...</td>\n    </tr>\n  </tbody>\n</table>\n<p>2000 rows × 2 columns</p>\n</div>"
     },
     "metadata": {},
     "output_type": "execute_result",
     "execution_count": 12
    }
   ],
   "source": [
    "data = pd.read_json(JSON_FILE, 'values')\n",
    "data"
   ],
   "metadata": {
    "collapsed": false,
    "pycharm": {
     "name": "#%%\n",
     "is_executing": false
    }
   }
  },
  {
   "cell_type": "code",
   "execution_count": 19,
   "outputs": [
    {
     "data": {
      "text/plain": "           gloss                                          instances\n0           book  {'bbox': [385, 37, 885, 720], 'fps': 25, 'fram...\n1          drink  {'bbox': [551, 68, 1350, 1080], 'fps': 25, 'fr...\n2       computer  {'bbox': [0, 0, 360, 240], 'fps': 25, 'frame_e...\n3         before  {'bbox': [0, 0, 360, 240], 'fps': 25, 'frame_e...\n4          chair  {'bbox': [0, 0, 360, 240], 'fps': 25, 'frame_e...\n...          ...                                                ...\n1995  washington  {'bbox': [0, 0, 360, 240], 'fps': 25, 'frame_e...\n1996   waterfall  {'bbox': [0, 0, 360, 240], 'fps': 25, 'frame_e...\n1997       weigh  {'bbox': [0, 0, 360, 240], 'fps': 25, 'frame_e...\n1998  wheelchair  {'bbox': [415, 86, 1811, 1080], 'fps': 25, 'fr...\n1999     whistle  {'bbox': [0, 0, 360, 240], 'fps': 25, 'frame_e...\n\n[2000 rows x 2 columns]",
      "text/html": "<div>\n<style scoped>\n    .dataframe tbody tr th:only-of-type {\n        vertical-align: middle;\n    }\n\n    .dataframe tbody tr th {\n        vertical-align: top;\n    }\n\n    .dataframe thead th {\n        text-align: right;\n    }\n</style>\n<table border=\"1\" class=\"dataframe\">\n  <thead>\n    <tr style=\"text-align: right;\">\n      <th></th>\n      <th>gloss</th>\n      <th>instances</th>\n    </tr>\n  </thead>\n  <tbody>\n    <tr>\n      <th>0</th>\n      <td>book</td>\n      <td>{'bbox': [385, 37, 885, 720], 'fps': 25, 'fram...</td>\n    </tr>\n    <tr>\n      <th>1</th>\n      <td>drink</td>\n      <td>{'bbox': [551, 68, 1350, 1080], 'fps': 25, 'fr...</td>\n    </tr>\n    <tr>\n      <th>2</th>\n      <td>computer</td>\n      <td>{'bbox': [0, 0, 360, 240], 'fps': 25, 'frame_e...</td>\n    </tr>\n    <tr>\n      <th>3</th>\n      <td>before</td>\n      <td>{'bbox': [0, 0, 360, 240], 'fps': 25, 'frame_e...</td>\n    </tr>\n    <tr>\n      <th>4</th>\n      <td>chair</td>\n      <td>{'bbox': [0, 0, 360, 240], 'fps': 25, 'frame_e...</td>\n    </tr>\n    <tr>\n      <th>...</th>\n      <td>...</td>\n      <td>...</td>\n    </tr>\n    <tr>\n      <th>1995</th>\n      <td>washington</td>\n      <td>{'bbox': [0, 0, 360, 240], 'fps': 25, 'frame_e...</td>\n    </tr>\n    <tr>\n      <th>1996</th>\n      <td>waterfall</td>\n      <td>{'bbox': [0, 0, 360, 240], 'fps': 25, 'frame_e...</td>\n    </tr>\n    <tr>\n      <th>1997</th>\n      <td>weigh</td>\n      <td>{'bbox': [0, 0, 360, 240], 'fps': 25, 'frame_e...</td>\n    </tr>\n    <tr>\n      <th>1998</th>\n      <td>wheelchair</td>\n      <td>{'bbox': [415, 86, 1811, 1080], 'fps': 25, 'fr...</td>\n    </tr>\n    <tr>\n      <th>1999</th>\n      <td>whistle</td>\n      <td>{'bbox': [0, 0, 360, 240], 'fps': 25, 'frame_e...</td>\n    </tr>\n  </tbody>\n</table>\n<p>2000 rows × 2 columns</p>\n</div>"
     },
     "metadata": {},
     "output_type": "execute_result",
     "execution_count": 19
    }
   ],
   "source": [
    "data['instances'] = pd.DataFrame.from_records(data['instances'])\n",
    "data"
   ],
   "metadata": {
    "collapsed": false,
    "pycharm": {
     "name": "#%%\n",
     "is_executing": false
    }
   }
  },
  {
   "cell_type": "code",
   "execution_count": 26,
   "outputs": [
    {
     "data": {
      "text/plain": "                       bbox  fps  frame_end  frame_start  instance_id  \\\n0       [385, 37, 885, 720]   25         -1            1            0   \n1     [551, 68, 1350, 1080]   25         -1            1            0   \n2          [0, 0, 360, 240]   25       5181         5122            0   \n3          [0, 0, 360, 240]   25       1779         1733            0   \n4          [0, 0, 360, 240]   25       1889         1830            0   \n...                     ...  ...        ...          ...          ...   \n1995       [0, 0, 360, 240]   25        667          588            0   \n1996       [0, 0, 360, 240]   25        876          764            0   \n1997       [0, 0, 360, 240]   25       1550         1498            0   \n1998  [415, 86, 1811, 1080]   25         -1            1            2   \n1999       [0, 0, 360, 240]   25       2111         2055            0   \n\n      signer_id      source  split  \\\n0           118    aslbrick  train   \n1           115    aslbrick    val   \n2             9     asl5200   test   \n3             9     asl5200  train   \n4             9     asl5200   test   \n...         ...         ...    ...   \n1995          9     asl5200   test   \n1996          9     asl5200   test   \n1997          9     asl5200   test   \n1998          4  signschool   test   \n1999          9     asl5200   test   \n\n                                                    url  variation_id video_id  \n0          http://aslbricks.org/New/ASL-Videos/book.mp4             0    69241  \n1         http://aslbricks.org/New/ASL-Videos/drink.mp4             0    69302  \n2           https://www.youtube.com/watch?v=PPmQd2zWdP0             0    12306  \n3           https://www.youtube.com/watch?v=pDqITge_TGs             0    05724  \n4           https://www.youtube.com/watch?v=PPmQd2zWdP0             0    09847  \n...                                                 ...           ...      ...  \n1995        https://www.youtube.com/watch?v=A5dihMAjeTE             0    62384  \n1996        https://www.youtube.com/watch?v=A5dihMAjeTE             0    62487  \n1997        https://www.youtube.com/watch?v=A5dihMAjeTE             0    62781  \n1998  https://signstock.blob.core.windows.net/signsc...             0    63044  \n1999        https://www.youtube.com/watch?v=A5dihMAjeTE             0    63185  \n\n[2000 rows x 11 columns]",
      "text/html": "<div>\n<style scoped>\n    .dataframe tbody tr th:only-of-type {\n        vertical-align: middle;\n    }\n\n    .dataframe tbody tr th {\n        vertical-align: top;\n    }\n\n    .dataframe thead th {\n        text-align: right;\n    }\n</style>\n<table border=\"1\" class=\"dataframe\">\n  <thead>\n    <tr style=\"text-align: right;\">\n      <th></th>\n      <th>bbox</th>\n      <th>fps</th>\n      <th>frame_end</th>\n      <th>frame_start</th>\n      <th>instance_id</th>\n      <th>signer_id</th>\n      <th>source</th>\n      <th>split</th>\n      <th>url</th>\n      <th>variation_id</th>\n      <th>video_id</th>\n    </tr>\n  </thead>\n  <tbody>\n    <tr>\n      <th>0</th>\n      <td>[385, 37, 885, 720]</td>\n      <td>25</td>\n      <td>-1</td>\n      <td>1</td>\n      <td>0</td>\n      <td>118</td>\n      <td>aslbrick</td>\n      <td>train</td>\n      <td>http://aslbricks.org/New/ASL-Videos/book.mp4</td>\n      <td>0</td>\n      <td>69241</td>\n    </tr>\n    <tr>\n      <th>1</th>\n      <td>[551, 68, 1350, 1080]</td>\n      <td>25</td>\n      <td>-1</td>\n      <td>1</td>\n      <td>0</td>\n      <td>115</td>\n      <td>aslbrick</td>\n      <td>val</td>\n      <td>http://aslbricks.org/New/ASL-Videos/drink.mp4</td>\n      <td>0</td>\n      <td>69302</td>\n    </tr>\n    <tr>\n      <th>2</th>\n      <td>[0, 0, 360, 240]</td>\n      <td>25</td>\n      <td>5181</td>\n      <td>5122</td>\n      <td>0</td>\n      <td>9</td>\n      <td>asl5200</td>\n      <td>test</td>\n      <td>https://www.youtube.com/watch?v=PPmQd2zWdP0</td>\n      <td>0</td>\n      <td>12306</td>\n    </tr>\n    <tr>\n      <th>3</th>\n      <td>[0, 0, 360, 240]</td>\n      <td>25</td>\n      <td>1779</td>\n      <td>1733</td>\n      <td>0</td>\n      <td>9</td>\n      <td>asl5200</td>\n      <td>train</td>\n      <td>https://www.youtube.com/watch?v=pDqITge_TGs</td>\n      <td>0</td>\n      <td>05724</td>\n    </tr>\n    <tr>\n      <th>4</th>\n      <td>[0, 0, 360, 240]</td>\n      <td>25</td>\n      <td>1889</td>\n      <td>1830</td>\n      <td>0</td>\n      <td>9</td>\n      <td>asl5200</td>\n      <td>test</td>\n      <td>https://www.youtube.com/watch?v=PPmQd2zWdP0</td>\n      <td>0</td>\n      <td>09847</td>\n    </tr>\n    <tr>\n      <th>...</th>\n      <td>...</td>\n      <td>...</td>\n      <td>...</td>\n      <td>...</td>\n      <td>...</td>\n      <td>...</td>\n      <td>...</td>\n      <td>...</td>\n      <td>...</td>\n      <td>...</td>\n      <td>...</td>\n    </tr>\n    <tr>\n      <th>1995</th>\n      <td>[0, 0, 360, 240]</td>\n      <td>25</td>\n      <td>667</td>\n      <td>588</td>\n      <td>0</td>\n      <td>9</td>\n      <td>asl5200</td>\n      <td>test</td>\n      <td>https://www.youtube.com/watch?v=A5dihMAjeTE</td>\n      <td>0</td>\n      <td>62384</td>\n    </tr>\n    <tr>\n      <th>1996</th>\n      <td>[0, 0, 360, 240]</td>\n      <td>25</td>\n      <td>876</td>\n      <td>764</td>\n      <td>0</td>\n      <td>9</td>\n      <td>asl5200</td>\n      <td>test</td>\n      <td>https://www.youtube.com/watch?v=A5dihMAjeTE</td>\n      <td>0</td>\n      <td>62487</td>\n    </tr>\n    <tr>\n      <th>1997</th>\n      <td>[0, 0, 360, 240]</td>\n      <td>25</td>\n      <td>1550</td>\n      <td>1498</td>\n      <td>0</td>\n      <td>9</td>\n      <td>asl5200</td>\n      <td>test</td>\n      <td>https://www.youtube.com/watch?v=A5dihMAjeTE</td>\n      <td>0</td>\n      <td>62781</td>\n    </tr>\n    <tr>\n      <th>1998</th>\n      <td>[415, 86, 1811, 1080]</td>\n      <td>25</td>\n      <td>-1</td>\n      <td>1</td>\n      <td>2</td>\n      <td>4</td>\n      <td>signschool</td>\n      <td>test</td>\n      <td>https://signstock.blob.core.windows.net/signsc...</td>\n      <td>0</td>\n      <td>63044</td>\n    </tr>\n    <tr>\n      <th>1999</th>\n      <td>[0, 0, 360, 240]</td>\n      <td>25</td>\n      <td>2111</td>\n      <td>2055</td>\n      <td>0</td>\n      <td>9</td>\n      <td>asl5200</td>\n      <td>test</td>\n      <td>https://www.youtube.com/watch?v=A5dihMAjeTE</td>\n      <td>0</td>\n      <td>63185</td>\n    </tr>\n  </tbody>\n</table>\n<p>2000 rows × 11 columns</p>\n</div>"
     },
     "metadata": {},
     "output_type": "execute_result",
     "execution_count": 26
    }
   ],
   "source": [
    "pd.DataFrame.from_records(data['instances'])"
   ],
   "metadata": {
    "collapsed": false,
    "pycharm": {
     "name": "#%%\n",
     "is_executing": false
    }
   }
  },
  {
   "cell_type": "code",
   "execution_count": null,
   "outputs": [],
   "source": [
    "\n"
   ],
   "metadata": {
    "collapsed": false,
    "pycharm": {
     "name": "#%%\n"
    }
   }
  }
 ],
 "metadata": {
  "kernelspec": {
   "name": "python3",
   "language": "python",
   "display_name": "Python 3"
  },
  "language_info": {
   "codemirror_mode": {
    "name": "ipython",
    "version": 2
   },
   "file_extension": ".py",
   "mimetype": "text/x-python",
   "name": "python",
   "nbconvert_exporter": "python",
   "pygments_lexer": "ipython2",
   "version": "2.7.6"
  },
  "pycharm": {
   "stem_cell": {
    "cell_type": "raw",
    "source": [],
    "metadata": {
     "collapsed": false
    }
   }
  }
 },
 "nbformat": 4,
 "nbformat_minor": 0
}