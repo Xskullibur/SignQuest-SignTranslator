{
 "cells": [
  {
   "cell_type": "code",
   "execution_count": 7,
   "metadata": {
    "scrolled": true
   },
   "outputs": [],
   "source": [
    "import tensorflow as tf\n",
    "physical_devices = tf.config.list_physical_devices('GPU')\n",
    "tf.config.experimental.set_memory_growth(physical_devices[0], True)"
   ]
  },
  {
   "cell_type": "code",
   "execution_count": 8,
   "metadata": {},
   "outputs": [],
   "source": [
    "import pandas as pd\n",
    "\n",
    "train_data = pd.read_csv('datasets/images/sign_mnist_train.csv')\n",
    "test_data = pd.read_csv('datasets/images/sign_mnist_test.csv')"
   ]
  },
  {
   "cell_type": "code",
   "execution_count": 9,
   "metadata": {
    "scrolled": true
   },
   "outputs": [
    {
     "name": "stdout",
     "output_type": "stream",
     "text": [
      "<class 'pandas.core.frame.DataFrame'>\n",
      "RangeIndex: 27455 entries, 0 to 27454\n",
      "Columns: 785 entries, label to pixel784\n",
      "dtypes: int64(785)\n",
      "memory usage: 164.4 MB\n"
     ]
    }
   ],
   "source": [
    "train_data.info()"
   ]
  },
  {
   "cell_type": "code",
   "execution_count": 10,
   "metadata": {
    "scrolled": false
   },
   "outputs": [
    {
     "data": {
      "text/html": [
       "<div>\n",
       "<style scoped>\n",
       "    .dataframe tbody tr th:only-of-type {\n",
       "        vertical-align: middle;\n",
       "    }\n",
       "\n",
       "    .dataframe tbody tr th {\n",
       "        vertical-align: top;\n",
       "    }\n",
       "\n",
       "    .dataframe thead th {\n",
       "        text-align: right;\n",
       "    }\n",
       "</style>\n",
       "<table border=\"1\" class=\"dataframe\">\n",
       "  <thead>\n",
       "    <tr style=\"text-align: right;\">\n",
       "      <th></th>\n",
       "      <th>label</th>\n",
       "      <th>pixel1</th>\n",
       "      <th>pixel2</th>\n",
       "      <th>pixel3</th>\n",
       "      <th>pixel4</th>\n",
       "      <th>pixel5</th>\n",
       "      <th>pixel6</th>\n",
       "      <th>pixel7</th>\n",
       "      <th>pixel8</th>\n",
       "      <th>pixel9</th>\n",
       "      <th>...</th>\n",
       "      <th>pixel775</th>\n",
       "      <th>pixel776</th>\n",
       "      <th>pixel777</th>\n",
       "      <th>pixel778</th>\n",
       "      <th>pixel779</th>\n",
       "      <th>pixel780</th>\n",
       "      <th>pixel781</th>\n",
       "      <th>pixel782</th>\n",
       "      <th>pixel783</th>\n",
       "      <th>pixel784</th>\n",
       "    </tr>\n",
       "  </thead>\n",
       "  <tbody>\n",
       "    <tr>\n",
       "      <th>0</th>\n",
       "      <td>3</td>\n",
       "      <td>107</td>\n",
       "      <td>118</td>\n",
       "      <td>127</td>\n",
       "      <td>134</td>\n",
       "      <td>139</td>\n",
       "      <td>143</td>\n",
       "      <td>146</td>\n",
       "      <td>150</td>\n",
       "      <td>153</td>\n",
       "      <td>...</td>\n",
       "      <td>207</td>\n",
       "      <td>207</td>\n",
       "      <td>207</td>\n",
       "      <td>207</td>\n",
       "      <td>206</td>\n",
       "      <td>206</td>\n",
       "      <td>206</td>\n",
       "      <td>204</td>\n",
       "      <td>203</td>\n",
       "      <td>202</td>\n",
       "    </tr>\n",
       "    <tr>\n",
       "      <th>1</th>\n",
       "      <td>6</td>\n",
       "      <td>155</td>\n",
       "      <td>157</td>\n",
       "      <td>156</td>\n",
       "      <td>156</td>\n",
       "      <td>156</td>\n",
       "      <td>157</td>\n",
       "      <td>156</td>\n",
       "      <td>158</td>\n",
       "      <td>158</td>\n",
       "      <td>...</td>\n",
       "      <td>69</td>\n",
       "      <td>149</td>\n",
       "      <td>128</td>\n",
       "      <td>87</td>\n",
       "      <td>94</td>\n",
       "      <td>163</td>\n",
       "      <td>175</td>\n",
       "      <td>103</td>\n",
       "      <td>135</td>\n",
       "      <td>149</td>\n",
       "    </tr>\n",
       "    <tr>\n",
       "      <th>2</th>\n",
       "      <td>2</td>\n",
       "      <td>187</td>\n",
       "      <td>188</td>\n",
       "      <td>188</td>\n",
       "      <td>187</td>\n",
       "      <td>187</td>\n",
       "      <td>186</td>\n",
       "      <td>187</td>\n",
       "      <td>188</td>\n",
       "      <td>187</td>\n",
       "      <td>...</td>\n",
       "      <td>202</td>\n",
       "      <td>201</td>\n",
       "      <td>200</td>\n",
       "      <td>199</td>\n",
       "      <td>198</td>\n",
       "      <td>199</td>\n",
       "      <td>198</td>\n",
       "      <td>195</td>\n",
       "      <td>194</td>\n",
       "      <td>195</td>\n",
       "    </tr>\n",
       "    <tr>\n",
       "      <th>3</th>\n",
       "      <td>2</td>\n",
       "      <td>211</td>\n",
       "      <td>211</td>\n",
       "      <td>212</td>\n",
       "      <td>212</td>\n",
       "      <td>211</td>\n",
       "      <td>210</td>\n",
       "      <td>211</td>\n",
       "      <td>210</td>\n",
       "      <td>210</td>\n",
       "      <td>...</td>\n",
       "      <td>235</td>\n",
       "      <td>234</td>\n",
       "      <td>233</td>\n",
       "      <td>231</td>\n",
       "      <td>230</td>\n",
       "      <td>226</td>\n",
       "      <td>225</td>\n",
       "      <td>222</td>\n",
       "      <td>229</td>\n",
       "      <td>163</td>\n",
       "    </tr>\n",
       "    <tr>\n",
       "      <th>4</th>\n",
       "      <td>13</td>\n",
       "      <td>164</td>\n",
       "      <td>167</td>\n",
       "      <td>170</td>\n",
       "      <td>172</td>\n",
       "      <td>176</td>\n",
       "      <td>179</td>\n",
       "      <td>180</td>\n",
       "      <td>184</td>\n",
       "      <td>185</td>\n",
       "      <td>...</td>\n",
       "      <td>92</td>\n",
       "      <td>105</td>\n",
       "      <td>105</td>\n",
       "      <td>108</td>\n",
       "      <td>133</td>\n",
       "      <td>163</td>\n",
       "      <td>157</td>\n",
       "      <td>163</td>\n",
       "      <td>164</td>\n",
       "      <td>179</td>\n",
       "    </tr>\n",
       "    <tr>\n",
       "      <th>...</th>\n",
       "      <td>...</td>\n",
       "      <td>...</td>\n",
       "      <td>...</td>\n",
       "      <td>...</td>\n",
       "      <td>...</td>\n",
       "      <td>...</td>\n",
       "      <td>...</td>\n",
       "      <td>...</td>\n",
       "      <td>...</td>\n",
       "      <td>...</td>\n",
       "      <td>...</td>\n",
       "      <td>...</td>\n",
       "      <td>...</td>\n",
       "      <td>...</td>\n",
       "      <td>...</td>\n",
       "      <td>...</td>\n",
       "      <td>...</td>\n",
       "      <td>...</td>\n",
       "      <td>...</td>\n",
       "      <td>...</td>\n",
       "      <td>...</td>\n",
       "    </tr>\n",
       "    <tr>\n",
       "      <th>27450</th>\n",
       "      <td>13</td>\n",
       "      <td>189</td>\n",
       "      <td>189</td>\n",
       "      <td>190</td>\n",
       "      <td>190</td>\n",
       "      <td>192</td>\n",
       "      <td>193</td>\n",
       "      <td>193</td>\n",
       "      <td>193</td>\n",
       "      <td>193</td>\n",
       "      <td>...</td>\n",
       "      <td>132</td>\n",
       "      <td>165</td>\n",
       "      <td>99</td>\n",
       "      <td>77</td>\n",
       "      <td>52</td>\n",
       "      <td>200</td>\n",
       "      <td>234</td>\n",
       "      <td>200</td>\n",
       "      <td>222</td>\n",
       "      <td>225</td>\n",
       "    </tr>\n",
       "    <tr>\n",
       "      <th>27451</th>\n",
       "      <td>23</td>\n",
       "      <td>151</td>\n",
       "      <td>154</td>\n",
       "      <td>157</td>\n",
       "      <td>158</td>\n",
       "      <td>160</td>\n",
       "      <td>161</td>\n",
       "      <td>163</td>\n",
       "      <td>164</td>\n",
       "      <td>166</td>\n",
       "      <td>...</td>\n",
       "      <td>198</td>\n",
       "      <td>198</td>\n",
       "      <td>198</td>\n",
       "      <td>198</td>\n",
       "      <td>198</td>\n",
       "      <td>196</td>\n",
       "      <td>195</td>\n",
       "      <td>195</td>\n",
       "      <td>195</td>\n",
       "      <td>194</td>\n",
       "    </tr>\n",
       "    <tr>\n",
       "      <th>27452</th>\n",
       "      <td>18</td>\n",
       "      <td>174</td>\n",
       "      <td>174</td>\n",
       "      <td>174</td>\n",
       "      <td>174</td>\n",
       "      <td>174</td>\n",
       "      <td>175</td>\n",
       "      <td>175</td>\n",
       "      <td>174</td>\n",
       "      <td>173</td>\n",
       "      <td>...</td>\n",
       "      <td>121</td>\n",
       "      <td>196</td>\n",
       "      <td>209</td>\n",
       "      <td>208</td>\n",
       "      <td>206</td>\n",
       "      <td>204</td>\n",
       "      <td>203</td>\n",
       "      <td>202</td>\n",
       "      <td>200</td>\n",
       "      <td>200</td>\n",
       "    </tr>\n",
       "    <tr>\n",
       "      <th>27453</th>\n",
       "      <td>17</td>\n",
       "      <td>177</td>\n",
       "      <td>181</td>\n",
       "      <td>184</td>\n",
       "      <td>185</td>\n",
       "      <td>187</td>\n",
       "      <td>189</td>\n",
       "      <td>190</td>\n",
       "      <td>191</td>\n",
       "      <td>191</td>\n",
       "      <td>...</td>\n",
       "      <td>119</td>\n",
       "      <td>56</td>\n",
       "      <td>27</td>\n",
       "      <td>58</td>\n",
       "      <td>102</td>\n",
       "      <td>79</td>\n",
       "      <td>47</td>\n",
       "      <td>64</td>\n",
       "      <td>87</td>\n",
       "      <td>93</td>\n",
       "    </tr>\n",
       "    <tr>\n",
       "      <th>27454</th>\n",
       "      <td>23</td>\n",
       "      <td>179</td>\n",
       "      <td>180</td>\n",
       "      <td>180</td>\n",
       "      <td>180</td>\n",
       "      <td>182</td>\n",
       "      <td>181</td>\n",
       "      <td>182</td>\n",
       "      <td>183</td>\n",
       "      <td>182</td>\n",
       "      <td>...</td>\n",
       "      <td>108</td>\n",
       "      <td>132</td>\n",
       "      <td>170</td>\n",
       "      <td>194</td>\n",
       "      <td>214</td>\n",
       "      <td>203</td>\n",
       "      <td>197</td>\n",
       "      <td>205</td>\n",
       "      <td>209</td>\n",
       "      <td>215</td>\n",
       "    </tr>\n",
       "  </tbody>\n",
       "</table>\n",
       "<p>27455 rows × 785 columns</p>\n",
       "</div>"
      ],
      "text/plain": [
       "       label  pixel1  pixel2  pixel3  pixel4  pixel5  pixel6  pixel7  pixel8  \\\n",
       "0          3     107     118     127     134     139     143     146     150   \n",
       "1          6     155     157     156     156     156     157     156     158   \n",
       "2          2     187     188     188     187     187     186     187     188   \n",
       "3          2     211     211     212     212     211     210     211     210   \n",
       "4         13     164     167     170     172     176     179     180     184   \n",
       "...      ...     ...     ...     ...     ...     ...     ...     ...     ...   \n",
       "27450     13     189     189     190     190     192     193     193     193   \n",
       "27451     23     151     154     157     158     160     161     163     164   \n",
       "27452     18     174     174     174     174     174     175     175     174   \n",
       "27453     17     177     181     184     185     187     189     190     191   \n",
       "27454     23     179     180     180     180     182     181     182     183   \n",
       "\n",
       "       pixel9  ...  pixel775  pixel776  pixel777  pixel778  pixel779  \\\n",
       "0         153  ...       207       207       207       207       206   \n",
       "1         158  ...        69       149       128        87        94   \n",
       "2         187  ...       202       201       200       199       198   \n",
       "3         210  ...       235       234       233       231       230   \n",
       "4         185  ...        92       105       105       108       133   \n",
       "...       ...  ...       ...       ...       ...       ...       ...   \n",
       "27450     193  ...       132       165        99        77        52   \n",
       "27451     166  ...       198       198       198       198       198   \n",
       "27452     173  ...       121       196       209       208       206   \n",
       "27453     191  ...       119        56        27        58       102   \n",
       "27454     182  ...       108       132       170       194       214   \n",
       "\n",
       "       pixel780  pixel781  pixel782  pixel783  pixel784  \n",
       "0           206       206       204       203       202  \n",
       "1           163       175       103       135       149  \n",
       "2           199       198       195       194       195  \n",
       "3           226       225       222       229       163  \n",
       "4           163       157       163       164       179  \n",
       "...         ...       ...       ...       ...       ...  \n",
       "27450       200       234       200       222       225  \n",
       "27451       196       195       195       195       194  \n",
       "27452       204       203       202       200       200  \n",
       "27453        79        47        64        87        93  \n",
       "27454       203       197       205       209       215  \n",
       "\n",
       "[27455 rows x 785 columns]"
      ]
     },
     "execution_count": 10,
     "metadata": {},
     "output_type": "execute_result"
    }
   ],
   "source": [
    "train_data"
   ]
  },
  {
   "cell_type": "code",
   "execution_count": 11,
   "metadata": {},
   "outputs": [],
   "source": [
    "from tensorflow import one_hot\n",
    "train_labels = train_data.iloc[:, 0]\n",
    "train_images = (train_data.iloc[:, 1:] / 255).to_numpy().reshape((-1, 28, 28, 1))\n",
    "\n",
    "\n",
    "test_labels = test_data.iloc[:, 0]\n",
    "test_images = (test_data.iloc[:, 1:] / 255).to_numpy().reshape((-1, 28, 28, 1))\n",
    "\n",
    "train_labels_onehot = one_hot(train_labels, 25).numpy()\n",
    "test_labels_onehot = one_hot(test_labels, 25).numpy()"
   ]
  },
  {
   "cell_type": "code",
   "execution_count": 12,
   "metadata": {},
   "outputs": [],
   "source": [
    "from tensorflow.keras.preprocessing.image import ImageDataGenerator\n",
    "\n",
    "datagen = ImageDataGenerator(\n",
    "        featurewise_center=False,  # set input mean to 0 over the dataset\n",
    "        samplewise_center=False,  # set each sample mean to 0\n",
    "        featurewise_std_normalization=False,  # divide inputs by std of the dataset\n",
    "        samplewise_std_normalization=False,  # divide each input by its std\n",
    "        zca_whitening=False,  # apply ZCA whitening\n",
    "        rotation_range=30,  # randomly rotate images in the range (degrees, 0 to 180)\n",
    "        zoom_range = 0.1, # Randomly zoom image \n",
    "        width_shift_range=0.1,  # randomly shift images horizontally (fraction of total width)\n",
    "        height_shift_range=0.1,  # randomly shift images vertically (fraction of total height)\n",
    "        horizontal_flip=True,  # randomly flip images\n",
    "        vertical_flip=True)  # randomly flip images\n",
    "\n",
    "\n",
    "datagen.fit(train_images)"
   ]
  },
  {
   "cell_type": "code",
   "execution_count": 13,
   "metadata": {
    "scrolled": true
   },
   "outputs": [
    {
     "data": {
      "text/plain": [
       "array([[0., 0., 0., ..., 0., 0., 0.],\n",
       "       [0., 0., 0., ..., 0., 0., 0.],\n",
       "       [0., 0., 1., ..., 0., 0., 0.],\n",
       "       ...,\n",
       "       [0., 0., 0., ..., 0., 0., 0.],\n",
       "       [0., 0., 0., ..., 0., 0., 0.],\n",
       "       [0., 0., 0., ..., 0., 1., 0.]], dtype=float32)"
      ]
     },
     "execution_count": 13,
     "metadata": {},
     "output_type": "execute_result"
    }
   ],
   "source": [
    "train_labels_onehot"
   ]
  },
  {
   "cell_type": "markdown",
   "metadata": {},
   "source": [
    "#  Keras Model"
   ]
  },
  {
   "cell_type": "code",
   "execution_count": 14,
   "metadata": {
    "scrolled": true
   },
   "outputs": [],
   "source": [
    "from tensorflow.keras.models import Sequential\n",
    "from tensorflow.keras.layers import Dense, Conv2D, MaxPool2D, BatchNormalization, Flatten, Dropout\n",
    "from tensorflow.keras.metrics import Precision, Recall\n",
    "from tensorflow.keras.callbacks import LearningRateScheduler\n",
    "model = Sequential()\n",
    "\n",
    "# model.add(Dense(784, activation='relu'))\n",
    "# model.add(Dense(392, activation='relu'))\n",
    "# model.add(Dense(196, activation='relu'))\n",
    "# model.add(Dense(25, activation='softmax'))\n",
    "\n",
    "# model.add(Conv2D(32, (3, 3), activation='relu', input_shape=(28, 28, 1)))\n",
    "# model.add(MaxPooling2D((2, 2)))\n",
    "# model.add(Conv2D(64, (3, 3), activation='relu'))\n",
    "# model.add(MaxPooling2D((2, 2)))\n",
    "# model.add(Conv2D(64, (3, 3), activation='relu'))\n",
    "# model.add(Flatten())\n",
    "# model.add(Dense(64, activation='relu'))\n",
    "# model.add(Dense(25, activation='softmax'))\n",
    "\n",
    "model = Sequential()\n",
    "model.add(Conv2D(200 , (6,6), strides = 1, padding = 'same' , activation = 'relu' , input_shape = (28,28,1)))\n",
    "model.add(BatchNormalization())\n",
    "model.add(MaxPool2D((2,2), strides = 2, padding = 'same'))\n",
    "model.add(Conv2D(175, (5,5), strides = 1, padding = 'same' , activation = 'relu'))\n",
    "model.add(Dropout(0.3))\n",
    "model.add(BatchNormalization())\n",
    "model.add(MaxPool2D((2,2), strides = 2, padding = 'same'))\n",
    "model.add(Conv2D(150, (5,5), strides = 1, padding = 'same' , activation = 'relu'))\n",
    "model.add(Dropout(0.3))\n",
    "model.add(BatchNormalization())\n",
    "model.add(MaxPool2D((2,2), strides = 2, padding = 'same'))\n",
    "model.add(Conv2D(125, (4,4), strides = 1, padding = 'same' , activation = 'relu'))\n",
    "model.add(Dropout(0.2))\n",
    "model.add(BatchNormalization())\n",
    "model.add(MaxPool2D((2,2), strides = 2, padding = 'same'))\n",
    "model.add(Conv2D(100, (4,4), strides = 1, padding = 'same' , activation = 'relu'))\n",
    "model.add(Dropout(0.3))\n",
    "model.add(BatchNormalization())\n",
    "model.add(MaxPool2D((2,2), strides = 2, padding = 'same'))\n",
    "model.add(Conv2D(75 , (3,3) , strides = 1 , padding = 'same' , activation = 'relu'))\n",
    "model.add(Dropout(0.2))\n",
    "model.add(BatchNormalization())\n",
    "model.add(MaxPool2D((2,2) , strides = 2, padding = 'same'))\n",
    "model.add(Conv2D(50 , (3,3) , strides = 1 , padding = 'same' , activation = 'relu'))\n",
    "model.add(Dropout(0.2))\n",
    "model.add(BatchNormalization())\n",
    "model.add(MaxPool2D((2,2) , strides = 2, padding = 'same'))\n",
    "model.add(Conv2D(25 , (3,3) , strides = 1, padding = 'same' , activation = 'relu'))\n",
    "model.add(BatchNormalization())\n",
    "model.add(MaxPool2D((2,2) , strides = 2, padding = 'same'))\n",
    "model.add(Flatten())\n",
    "model.add(Dense(units = 512 , activation = 'relu'))\n",
    "model.add(Dropout(0.3))\n",
    "model.add(Dense(units = 25 , activation = 'softmax'))\n"
   ]
  },
  {
   "cell_type": "code",
   "execution_count": 15,
   "metadata": {
    "scrolled": true
   },
   "outputs": [],
   "source": [
    "model.compile(optimizer='adam', loss='categorical_crossentropy', metrics=['accuracy'])"
   ]
  },
  {
   "cell_type": "code",
   "execution_count": 16,
   "metadata": {
    "scrolled": false
   },
   "outputs": [
    {
     "name": "stdout",
     "output_type": "stream",
     "text": [
      "WARNING:tensorflow:sample_weight modes were coerced from\n",
      "  ...\n",
      "    to  \n",
      "  ['...']\n",
      "Train for 215 steps, validate on 7172 samples\n",
      "Epoch 1/40\n",
      "215/215 [==============================] - 19s 88ms/step - loss: 2.8109 - accuracy: 0.1256 - val_loss: 4.1842 - val_accuracy: 0.0289\n",
      "Epoch 2/40\n",
      "215/215 [==============================] - 11s 52ms/step - loss: 1.9948 - accuracy: 0.2958 - val_loss: 2.1379 - val_accuracy: 0.2486\n",
      "Epoch 3/40\n",
      "215/215 [==============================] - 11s 53ms/step - loss: 1.4589 - accuracy: 0.4629 - val_loss: 2.2549 - val_accuracy: 0.2674\n",
      "Epoch 4/40\n",
      "215/215 [==============================] - 11s 53ms/step - loss: 1.0379 - accuracy: 0.6238 - val_loss: 2.3828 - val_accuracy: 0.3059\n",
      "Epoch 5/40\n",
      "215/215 [==============================] - 11s 53ms/step - loss: 0.7514 - accuracy: 0.7325 - val_loss: 0.8970 - val_accuracy: 0.6590\n",
      "Epoch 6/40\n",
      "215/215 [==============================] - 11s 52ms/step - loss: 0.5835 - accuracy: 0.7980 - val_loss: 1.2471 - val_accuracy: 0.6170\n",
      "Epoch 7/40\n",
      "215/215 [==============================] - 11s 51ms/step - loss: 0.4769 - accuracy: 0.8384 - val_loss: 0.6675 - val_accuracy: 0.7379\n",
      "Epoch 8/40\n",
      "215/215 [==============================] - 11s 51ms/step - loss: 0.3949 - accuracy: 0.8677 - val_loss: 0.6215 - val_accuracy: 0.7823\n",
      "Epoch 9/40\n",
      "215/215 [==============================] - 11s 51ms/step - loss: 0.3501 - accuracy: 0.8848 - val_loss: 0.5991 - val_accuracy: 0.7755\n",
      "Epoch 10/40\n",
      "215/215 [==============================] - 11s 51ms/step - loss: 0.2893 - accuracy: 0.9072 - val_loss: 0.6219 - val_accuracy: 0.8037\n",
      "Epoch 11/40\n",
      "215/215 [==============================] - 11s 52ms/step - loss: 0.2466 - accuracy: 0.9239 - val_loss: 0.8032 - val_accuracy: 0.7472\n",
      "Epoch 12/40\n",
      "215/215 [==============================] - 11s 51ms/step - loss: 0.2359 - accuracy: 0.9285 - val_loss: 0.2981 - val_accuracy: 0.8893\n",
      "Epoch 13/40\n",
      "215/215 [==============================] - 11s 51ms/step - loss: 0.1884 - accuracy: 0.9423 - val_loss: 0.3918 - val_accuracy: 0.8628\n",
      "Epoch 14/40\n",
      "215/215 [==============================] - 11s 51ms/step - loss: 0.1824 - accuracy: 0.9449 - val_loss: 0.5103 - val_accuracy: 0.8484\n",
      "Epoch 15/40\n",
      "215/215 [==============================] - 11s 52ms/step - loss: 0.1641 - accuracy: 0.9513 - val_loss: 0.6880 - val_accuracy: 0.7879\n",
      "Epoch 16/40\n",
      "215/215 [==============================] - 11s 51ms/step - loss: 0.1484 - accuracy: 0.9557 - val_loss: 0.1854 - val_accuracy: 0.9335\n",
      "Epoch 17/40\n",
      "215/215 [==============================] - 11s 51ms/step - loss: 0.1386 - accuracy: 0.9595 - val_loss: 0.3883 - val_accuracy: 0.8712\n",
      "Epoch 18/40\n",
      "215/215 [==============================] - 11s 52ms/step - loss: 0.1243 - accuracy: 0.9638 - val_loss: 0.1482 - val_accuracy: 0.9448\n",
      "Epoch 19/40\n",
      "215/215 [==============================] - 11s 51ms/step - loss: 0.1130 - accuracy: 0.9672 - val_loss: 0.2147 - val_accuracy: 0.9278\n",
      "Epoch 20/40\n",
      "215/215 [==============================] - 11s 51ms/step - loss: 0.1074 - accuracy: 0.9694 - val_loss: 0.3003 - val_accuracy: 0.8932\n",
      "Epoch 21/40\n",
      "215/215 [==============================] - 11s 51ms/step - loss: 0.1062 - accuracy: 0.9697 - val_loss: 0.1095 - val_accuracy: 0.9658\n",
      "Epoch 22/40\n",
      "215/215 [==============================] - 11s 51ms/step - loss: 0.0970 - accuracy: 0.9732 - val_loss: 0.1448 - val_accuracy: 0.9474\n",
      "Epoch 23/40\n",
      "215/215 [==============================] - 11s 51ms/step - loss: 0.0919 - accuracy: 0.9733 - val_loss: 0.1053 - val_accuracy: 0.9608\n",
      "Epoch 24/40\n",
      "215/215 [==============================] - 11s 51ms/step - loss: 0.0834 - accuracy: 0.9746 - val_loss: 0.1077 - val_accuracy: 0.9571\n",
      "Epoch 25/40\n",
      "215/215 [==============================] - 11s 52ms/step - loss: 0.0807 - accuracy: 0.9769 - val_loss: 0.2177 - val_accuracy: 0.9318\n",
      "Epoch 26/40\n",
      "215/215 [==============================] - 11s 52ms/step - loss: 0.0759 - accuracy: 0.9784 - val_loss: 0.0735 - val_accuracy: 0.9753\n",
      "Epoch 27/40\n",
      "215/215 [==============================] - 11s 52ms/step - loss: 0.0755 - accuracy: 0.9785 - val_loss: 0.0498 - val_accuracy: 0.9840\n",
      "Epoch 28/40\n",
      "215/215 [==============================] - 11s 51ms/step - loss: 0.0649 - accuracy: 0.9808 - val_loss: 0.0768 - val_accuracy: 0.9809\n",
      "Epoch 29/40\n",
      "215/215 [==============================] - 11s 51ms/step - loss: 0.0668 - accuracy: 0.9810 - val_loss: 0.0908 - val_accuracy: 0.9738\n",
      "Epoch 30/40\n",
      "215/215 [==============================] - 11s 51ms/step - loss: 0.0656 - accuracy: 0.9816 - val_loss: 0.0464 - val_accuracy: 0.9830\n",
      "Epoch 31/40\n",
      "215/215 [==============================] - 11s 52ms/step - loss: 0.0587 - accuracy: 0.9840 - val_loss: 0.1399 - val_accuracy: 0.9519\n",
      "Epoch 32/40\n",
      "215/215 [==============================] - 11s 51ms/step - loss: 0.0600 - accuracy: 0.9834 - val_loss: 0.0448 - val_accuracy: 0.9854\n",
      "Epoch 33/40\n",
      "215/215 [==============================] - 11s 51ms/step - loss: 0.0519 - accuracy: 0.9855 - val_loss: 0.0887 - val_accuracy: 0.9781\n",
      "Epoch 34/40\n",
      "215/215 [==============================] - 11s 51ms/step - loss: 0.0510 - accuracy: 0.9863 - val_loss: 0.2855 - val_accuracy: 0.9255\n",
      "Epoch 35/40\n",
      "215/215 [==============================] - 11s 52ms/step - loss: 0.0476 - accuracy: 0.9870 - val_loss: 0.2819 - val_accuracy: 0.9134\n",
      "Epoch 36/40\n",
      "215/215 [==============================] - 11s 52ms/step - loss: 0.0519 - accuracy: 0.9860 - val_loss: 0.0414 - val_accuracy: 0.9884\n",
      "Epoch 37/40\n",
      "215/215 [==============================] - 11s 51ms/step - loss: 0.0470 - accuracy: 0.9870 - val_loss: 0.0365 - val_accuracy: 0.9876\n",
      "Epoch 38/40\n",
      "215/215 [==============================] - 11s 51ms/step - loss: 0.0440 - accuracy: 0.9879 - val_loss: 0.0911 - val_accuracy: 0.9723\n",
      "Epoch 39/40\n",
      "215/215 [==============================] - 11s 51ms/step - loss: 0.0427 - accuracy: 0.9885 - val_loss: 0.0905 - val_accuracy: 0.9727\n",
      "Epoch 40/40\n",
      "215/215 [==============================] - 11s 52ms/step - loss: 0.0427 - accuracy: 0.9886 - val_loss: 0.0388 - val_accuracy: 0.9897\n"
     ]
    },
    {
     "data": {
      "text/plain": [
       "<tensorflow.python.keras.callbacks.History at 0x28d9406ba90>"
      ]
     },
     "execution_count": 16,
     "metadata": {},
     "output_type": "execute_result"
    }
   ],
   "source": [
    "lrdecay = LearningRateScheduler(lambda x: 1e-3 * 0.95 ** x)\n",
    "model.fit(datagen.flow(train_images,train_labels_onehot, batch_size = 128), epochs=40, \n",
    "          validation_data = (test_images, test_labels_onehot), \n",
    "          callbacks=[lrdecay])"
   ]
  },
  {
   "cell_type": "code",
   "execution_count": 21,
   "metadata": {
    "scrolled": true
   },
   "outputs": [
    {
     "name": "stdout",
     "output_type": "stream",
     "text": [
      "Model: \"sequential_1\"\n",
      "_________________________________________________________________\n",
      "Layer (type)                 Output Shape              Param #   \n",
      "=================================================================\n",
      "conv2d (Conv2D)              (None, 28, 28, 200)       7400      \n",
      "_________________________________________________________________\n",
      "batch_normalization (BatchNo (None, 28, 28, 200)       800       \n",
      "_________________________________________________________________\n",
      "max_pooling2d (MaxPooling2D) (None, 14, 14, 200)       0         \n",
      "_________________________________________________________________\n",
      "conv2d_1 (Conv2D)            (None, 14, 14, 175)       875175    \n",
      "_________________________________________________________________\n",
      "dropout (Dropout)            (None, 14, 14, 175)       0         \n",
      "_________________________________________________________________\n",
      "batch_normalization_1 (Batch (None, 14, 14, 175)       700       \n",
      "_________________________________________________________________\n",
      "max_pooling2d_1 (MaxPooling2 (None, 7, 7, 175)         0         \n",
      "_________________________________________________________________\n",
      "conv2d_2 (Conv2D)            (None, 7, 7, 150)         656400    \n",
      "_________________________________________________________________\n",
      "dropout_1 (Dropout)          (None, 7, 7, 150)         0         \n",
      "_________________________________________________________________\n",
      "batch_normalization_2 (Batch (None, 7, 7, 150)         600       \n",
      "_________________________________________________________________\n",
      "max_pooling2d_2 (MaxPooling2 (None, 4, 4, 150)         0         \n",
      "_________________________________________________________________\n",
      "conv2d_3 (Conv2D)            (None, 4, 4, 125)         300125    \n",
      "_________________________________________________________________\n",
      "dropout_2 (Dropout)          (None, 4, 4, 125)         0         \n",
      "_________________________________________________________________\n",
      "batch_normalization_3 (Batch (None, 4, 4, 125)         500       \n",
      "_________________________________________________________________\n",
      "max_pooling2d_3 (MaxPooling2 (None, 2, 2, 125)         0         \n",
      "_________________________________________________________________\n",
      "conv2d_4 (Conv2D)            (None, 2, 2, 100)         200100    \n",
      "_________________________________________________________________\n",
      "dropout_3 (Dropout)          (None, 2, 2, 100)         0         \n",
      "_________________________________________________________________\n",
      "batch_normalization_4 (Batch (None, 2, 2, 100)         400       \n",
      "_________________________________________________________________\n",
      "max_pooling2d_4 (MaxPooling2 (None, 1, 1, 100)         0         \n",
      "_________________________________________________________________\n",
      "conv2d_5 (Conv2D)            (None, 1, 1, 75)          67575     \n",
      "_________________________________________________________________\n",
      "dropout_4 (Dropout)          (None, 1, 1, 75)          0         \n",
      "_________________________________________________________________\n",
      "batch_normalization_5 (Batch (None, 1, 1, 75)          300       \n",
      "_________________________________________________________________\n",
      "max_pooling2d_5 (MaxPooling2 (None, 1, 1, 75)          0         \n",
      "_________________________________________________________________\n",
      "conv2d_6 (Conv2D)            (None, 1, 1, 50)          33800     \n",
      "_________________________________________________________________\n",
      "dropout_5 (Dropout)          (None, 1, 1, 50)          0         \n",
      "_________________________________________________________________\n",
      "batch_normalization_6 (Batch (None, 1, 1, 50)          200       \n",
      "_________________________________________________________________\n",
      "max_pooling2d_6 (MaxPooling2 (None, 1, 1, 50)          0         \n",
      "_________________________________________________________________\n",
      "conv2d_7 (Conv2D)            (None, 1, 1, 25)          11275     \n",
      "_________________________________________________________________\n",
      "batch_normalization_7 (Batch (None, 1, 1, 25)          100       \n",
      "_________________________________________________________________\n",
      "max_pooling2d_7 (MaxPooling2 (None, 1, 1, 25)          0         \n",
      "_________________________________________________________________\n",
      "flatten (Flatten)            (None, 25)                0         \n",
      "_________________________________________________________________\n",
      "dense (Dense)                (None, 512)               13312     \n",
      "_________________________________________________________________\n",
      "dropout_6 (Dropout)          (None, 512)               0         \n",
      "_________________________________________________________________\n",
      "dense_1 (Dense)              (None, 25)                12825     \n",
      "=================================================================\n",
      "Total params: 2,181,587\n",
      "Trainable params: 2,179,787\n",
      "Non-trainable params: 1,800\n",
      "_________________________________________________________________\n"
     ]
    }
   ],
   "source": [
    "model.summary()"
   ]
  },
  {
   "cell_type": "code",
   "execution_count": 18,
   "metadata": {
    "scrolled": true
   },
   "outputs": [
    {
     "name": "stdout",
     "output_type": "stream",
     "text": [
      "[ 6  5 10 ...  2  4  2]\n"
     ]
    }
   ],
   "source": [
    "import numpy as np\n",
    "\n",
    "predict_test_labels = np.argmax(model.predict(test_images), axis=-1)\n",
    "print(predict_test_labels)"
   ]
  },
  {
   "cell_type": "code",
   "execution_count": 19,
   "metadata": {
    "scrolled": false
   },
   "outputs": [
    {
     "name": "stdout",
     "output_type": "stream",
     "text": [
      "Precision: 0.9912806331119329\n",
      "Recall: 0.9901401833516541\n"
     ]
    }
   ],
   "source": [
    "from sklearn.metrics import confusion_matrix, precision_score, recall_score\n",
    "#confusion_matrix(test_labels, predict_test_labels)\n",
    "print('Precision: {}'.format(precision_score(test_labels, predict_test_labels, average='macro')))\n",
    "print('Recall: {}'.format(recall_score(test_labels, predict_test_labels, average='macro')))"
   ]
  },
  {
   "cell_type": "markdown",
   "metadata": {},
   "source": [
    "# Prediction"
   ]
  },
  {
   "cell_type": "code",
   "execution_count": 65,
   "metadata": {
    "scrolled": false
   },
   "outputs": [
    {
     "data": {
      "image/png": "[encoded data removed]",
      "text/plain": [
       "<Figure size 432x288 with 1 Axes>"
      ]
     },
     "metadata": {
      "needs_background": "light"
     },
     "output_type": "display_data"
    }
   ],
   "source": [
    "img = cv2.imread('test/185.jpg', cv2.IMREAD_GRAYSCALE)\n",
    "img = cv2.resize(img, (28, 28), interpolation = cv2.INTER_AREA)\n",
    "img = cv2.flip(img, 1)\n",
    "img = img / 255\n",
    "                     \n",
    "#Show the image with matplotlib\n",
    "plt.imshow(img)\n",
    "plt.show()\n"
   ]
  },
  {
   "cell_type": "code",
   "execution_count": 75,
   "metadata": {
    "scrolled": false
   },
   "outputs": [
    {
     "data": {
      "image/png": "[encoded data removed]",
      "text/plain": [
       "<Figure size 432x288 with 1 Axes>"
      ]
     },
     "metadata": {
      "needs_background": "light"
     },
     "output_type": "display_data"
    }
   ],
   "source": [
    "%matplotlib inline\n",
    "import cv2\n",
    "from matplotlib import pyplot as plt\n",
    "img = cv2.imread('data2/A/1.jpg', cv2.IMREAD_GRAYSCALE)\n",
    "img = cv2.rotate(cv2.resize(img, (28, 28), interpolation = cv2.INTER_AREA), cv2.ROTATE_90_COUNTERCLOCKWISE)\n",
    "\n",
    "# brightness = 50\n",
    "# contrast = 30\n",
    "# img = np.int16(img)\n",
    "# img = img * (contrast/127+1) - contrast + brightness\n",
    "# img = np.clip(img, 0, 255)\n",
    "# img = np.uint8(img)\n",
    "\n",
    "# img = img / 255\n",
    "                     \n",
    "#Show the image with matplotlib\n",
    "plt.imshow(img)\n",
    "plt.show()\n",
    "\n"
   ]
  },
  {
   "cell_type": "code",
   "execution_count": 74,
   "metadata": {
    "scrolled": false
   },
   "outputs": [
    {
     "name": "stdout",
     "output_type": "stream",
     "text": [
      "[[0. 0. 0. 0. 0. 0. 0. 0. 0. 0. 0. 0. 0. 0. 1. 0. 0. 0. 0. 0. 0. 0. 0. 0.\n",
      "  0.]]\n"
     ]
    },
    {
     "data": {
      "text/plain": [
       "'O'"
      ]
     },
     "execution_count": 74,
     "metadata": {},
     "output_type": "execute_result"
    }
   ],
   "source": [
    "predicted_index = np.argmax(model.predict(img.reshape((-1, 28, 28, 1))))\n",
    "print(model.predict(img.reshape((-1, 28, 28, 1))))\n",
    "chr(ord('A') + predicted_index)\n"
   ]
  },
  {
   "cell_type": "markdown",
   "metadata": {},
   "source": [
    "# Save"
   ]
  },
  {
   "cell_type": "code",
   "execution_count": 23,
   "metadata": {
    "scrolled": true
   },
   "outputs": [
    {
     "name": "stdout",
     "output_type": "stream",
     "text": [
      "WARNING:tensorflow:From C:\\tools\\Anaconda3\\envs\\work\\lib\\site-packages\\tensorflow_core\\python\\ops\\resource_variable_ops.py:1786: calling BaseResourceVariable.__init__ (from tensorflow.python.ops.resource_variable_ops) with constraint is deprecated and will be removed in a future version.\n",
      "Instructions for updating:\n",
      "If using Keras pass *_constraint arguments to layers.\n",
      "INFO:tensorflow:Assets written to: christinav6\\assets\n"
     ]
    }
   ],
   "source": [
    "model.save('christinav6')"
   ]
  },
  {
   "cell_type": "markdown",
   "metadata": {},
   "source": [
    "# Load"
   ]
  },
  {
   "cell_type": "code",
   "execution_count": 3,
   "metadata": {},
   "outputs": [],
   "source": [
    "from tensorflow.keras.models import load_model\n",
    "model = load_model('christinav3')"
   ]
  },
  {
   "cell_type": "markdown",
   "metadata": {},
   "source": [
    "# Save as TensorFlow Lite"
   ]
  },
  {
   "cell_type": "code",
   "execution_count": 11,
   "metadata": {
    "scrolled": true
   },
   "outputs": [],
   "source": [
    "# from tensorflow.lite.TFLiteConverter import from_saved_model\n",
    "# from tensorflow.io.gfile import GFile\n",
    "import tensorflow as tf\n",
    "converter = tf.lite.TFLiteConverter.from_saved_model('christina')\n",
    "tflite_model = converter.convert()\n",
    "with tf.io.gfile.GFile('christina.tflite', 'wb') as f:\n",
    "  f.write(tflite_model)\n"
   ]
  },
  {
   "cell_type": "code",
   "execution_count": 20,
   "metadata": {},
   "outputs": [
    {
     "name": "stdout",
     "output_type": "stream",
     "text": [
      "(27455, 28, 28)\n"
     ]
    }
   ],
   "source": [
    "print(np.array(train_images).reshape(-1,28, 28).shape)\n",
    "\n",
    "for i, img in enumerate(np.array(test_images).reshape(-1,28, 28)):\n",
    "    cv2.imwrite('./test/'+str(i)+'.jpg', img*255)"
   ]
  },
  {
   "cell_type": "code",
   "execution_count": null,
   "metadata": {},
   "outputs": [],
   "source": []
  },
  {
   "cell_type": "code",
   "execution_count": null,
   "metadata": {},
   "outputs": [],
   "source": []
  }
 ],
 "metadata": {
  "kernelspec": {
   "display_name": "Python 3",
   "language": "python",
   "name": "python3"
  },
  "language_info": {
   "codemirror_mode": {
    "name": "ipython",
    "version": 3
   },
   "file_extension": ".py",
   "mimetype": "text/x-python",
   "name": "python",
   "nbconvert_exporter": "python",
   "pygments_lexer": "ipython3",
   "version": "3.7.0"
  }
 },
 "nbformat": 4,
 "nbformat_minor": 1
}
