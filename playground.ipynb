{
 "cells": [
  {
   "cell_type": "code",
   "execution_count": 1,
   "metadata": {
    "collapsed": true,
    "pycharm": {
     "is_executing": false
    }
   },
   "outputs": [],
   "source": [
    "import os\n",
    "import numpy as np\n",
    "import pandas as pd\n",
    "import cv2\n",
    "\n",
    "OUTPUT_DIR = 'D:\\Documents\\Education\\Diploma Competitions\\Splash Awards 2020\\SignQuest-SignTranslator\\output\\WLASL.csv'"
   ]
  },
  {
   "cell_type": "code",
   "execution_count": 2,
   "outputs": [
    {
     "data": {
      "text/plain": "      video_id gloss                  bbox frame_start frame_end\n0        00295     a      [0, 0, 360, 240]         1.0      23.0\n1        01610     a   [124, 33, 565, 480]         1.0      -1.0\n2        01611     a    [122, 8, 462, 360]         1.0      -1.0\n3        01612     a     [85, 7, 217, 192]         1.0      -1.0\n4        01613     a   [219, 32, 916, 720]         1.0      -1.0\n...        ...   ...                   ...         ...       ...\n18710    66825  zero   [159, 12, 461, 370]         1.0      -1.0\n18711    67017  zero    [71, 19, 372, 360]         1.0      -1.0\n18712    67840  zero   [100, 13, 382, 360]         1.0      -1.0\n18713    68193  zero  [334, 37, 1000, 720]         1.0      -1.0\n18714    68862  zero   [101, 15, 535, 357]         1.0      55.0\n\n[18715 rows x 5 columns]",
      "text/html": "<div>\n<style scoped>\n    .dataframe tbody tr th:only-of-type {\n        vertical-align: middle;\n    }\n\n    .dataframe tbody tr th {\n        vertical-align: top;\n    }\n\n    .dataframe thead th {\n        text-align: right;\n    }\n</style>\n<table border=\"1\" class=\"dataframe\">\n  <thead>\n    <tr style=\"text-align: right;\">\n      <th></th>\n      <th>video_id</th>\n      <th>gloss</th>\n      <th>bbox</th>\n      <th>frame_start</th>\n      <th>frame_end</th>\n    </tr>\n  </thead>\n  <tbody>\n    <tr>\n      <th>0</th>\n      <td>00295</td>\n      <td>a</td>\n      <td>[0, 0, 360, 240]</td>\n      <td>1.0</td>\n      <td>23.0</td>\n    </tr>\n    <tr>\n      <th>1</th>\n      <td>01610</td>\n      <td>a</td>\n      <td>[124, 33, 565, 480]</td>\n      <td>1.0</td>\n      <td>-1.0</td>\n    </tr>\n    <tr>\n      <th>2</th>\n      <td>01611</td>\n      <td>a</td>\n      <td>[122, 8, 462, 360]</td>\n      <td>1.0</td>\n      <td>-1.0</td>\n    </tr>\n    <tr>\n      <th>3</th>\n      <td>01612</td>\n      <td>a</td>\n      <td>[85, 7, 217, 192]</td>\n      <td>1.0</td>\n      <td>-1.0</td>\n    </tr>\n    <tr>\n      <th>4</th>\n      <td>01613</td>\n      <td>a</td>\n      <td>[219, 32, 916, 720]</td>\n      <td>1.0</td>\n      <td>-1.0</td>\n    </tr>\n    <tr>\n      <th>...</th>\n      <td>...</td>\n      <td>...</td>\n      <td>...</td>\n      <td>...</td>\n      <td>...</td>\n    </tr>\n    <tr>\n      <th>18710</th>\n      <td>66825</td>\n      <td>zero</td>\n      <td>[159, 12, 461, 370]</td>\n      <td>1.0</td>\n      <td>-1.0</td>\n    </tr>\n    <tr>\n      <th>18711</th>\n      <td>67017</td>\n      <td>zero</td>\n      <td>[71, 19, 372, 360]</td>\n      <td>1.0</td>\n      <td>-1.0</td>\n    </tr>\n    <tr>\n      <th>18712</th>\n      <td>67840</td>\n      <td>zero</td>\n      <td>[100, 13, 382, 360]</td>\n      <td>1.0</td>\n      <td>-1.0</td>\n    </tr>\n    <tr>\n      <th>18713</th>\n      <td>68193</td>\n      <td>zero</td>\n      <td>[334, 37, 1000, 720]</td>\n      <td>1.0</td>\n      <td>-1.0</td>\n    </tr>\n    <tr>\n      <th>18714</th>\n      <td>68862</td>\n      <td>zero</td>\n      <td>[101, 15, 535, 357]</td>\n      <td>1.0</td>\n      <td>55.0</td>\n    </tr>\n  </tbody>\n</table>\n<p>18715 rows × 5 columns</p>\n</div>"
     },
     "metadata": {},
     "output_type": "execute_result",
     "execution_count": 2
    }
   ],
   "source": [
    "data = pd.read_csv(OUTPUT_DIR, dtype=str)\n",
    "data.reset_index()\n",
    "data"
   ],
   "metadata": {
    "collapsed": false,
    "pycharm": {
     "name": "#%%\n",
     "is_executing": false
    }
   }
  },
  {
   "cell_type": "code",
   "execution_count": 3,
   "outputs": [
    {
     "data": {
      "text/plain": "video_id                    00421\ngloss                       about\nbbox           [54, 16, 219, 192]\nframe_start                   1.0\nframe_end                     5.0\nName: 35, dtype: object"
     },
     "metadata": {},
     "output_type": "execute_result",
     "execution_count": 3
    }
   ],
   "source": [
    "vid1 = data.iloc[35]\n",
    "vid1"
   ],
   "metadata": {
    "collapsed": false,
    "pycharm": {
     "name": "#%%\n",
     "is_executing": false
    }
   }
  },
  {
   "cell_type": "code",
   "execution_count": 4,
   "outputs": [
    {
     "data": {
      "text/plain": "'D:\\\\Documents\\\\Education\\\\Diploma Competitions\\\\Splash Awards 2020\\\\SignQuest-SignTranslator\\\\input\\\\videos\\\\00421.mp4'"
     },
     "metadata": {},
     "output_type": "execute_result",
     "execution_count": 4
    }
   ],
   "source": [
    "video_dir = f'D:\\Documents\\Education\\Diploma Competitions\\Splash Awards 2020\\SignQuest-SignTranslator\\input\\\\videos\\\\' + str(vid1.video_id) + '.mp4'\n",
    "video_dir"
   ],
   "metadata": {
    "collapsed": false,
    "pycharm": {
     "name": "#%%\n",
     "is_executing": false
    }
   }
  },
  {
   "cell_type": "code",
   "execution_count": 5,
   "outputs": [
    {
     "data": {
      "text/plain": "34.0"
     },
     "metadata": {},
     "output_type": "execute_result",
     "execution_count": 5
    }
   ],
   "source": [
    "cap = cv2.VideoCapture(video_dir)\n",
    "frame_count = cap.get(cv2.CAP_PROP_FRAME_COUNT)\n",
    "frame_count"
   ],
   "metadata": {
    "collapsed": false,
    "pycharm": {
     "name": "#%%\n",
     "is_executing": false
    }
   }
  },
  {
   "cell_type": "code",
   "execution_count": 6,
   "outputs": [],
   "source": [
    "for i in range(int(frame_count)):\n",
    "    retval, image = cap.read()\n",
    "    \n",
    "    if vid1.frame_end != '-1.0':\n",
    "        if i not in range(int(float(vid1.frame_start)), int(float(vid1.frame_end))):\n",
    "            continue\n",
    "            \n",
    "    gray = cv2.cvtColor(image, cv2.COLOR_BGR2GRAY)\n",
    "    cv2.imwrite(str(vid1.video_id)+'_frame_' + str(i) + '.jpg', gray)\n",
    "        \n",
    "cap.release()"
   ],
   "metadata": {
    "collapsed": false,
    "pycharm": {
     "name": "#%%\n",
     "is_executing": false
    }
   }
  }
 ],
 "metadata": {
  "kernelspec": {
   "display_name": "Python 3",
   "language": "python",
   "name": "python3"
  },
  "language_info": {
   "codemirror_mode": {
    "name": "ipython",
    "version": 2
   },
   "file_extension": ".py",
   "mimetype": "text/x-python",
   "name": "python",
   "nbconvert_exporter": "python",
   "pygments_lexer": "ipython2",
   "version": "2.7.6"
  },
  "pycharm": {
   "stem_cell": {
    "cell_type": "raw",
    "source": [],
    "metadata": {
     "collapsed": false
    }
   }
  }
 },
 "nbformat": 4,
 "nbformat_minor": 0
}