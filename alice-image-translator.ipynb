{
 "cells": [
  {
   "cell_type": "code",
   "execution_count": 1,
   "metadata": {},
   "outputs": [],
   "source": [
    "import tensorflow as tf\n",
    "physical_devices = tf.config.list_physical_devices('GPU')\n",
    "tf.config.experimental.set_memory_growth(physical_devices[0], True)"
   ]
  },
  {
   "cell_type": "markdown",
   "metadata": {},
   "source": [
    "# Loading Images"
   ]
  },
  {
   "cell_type": "code",
   "execution_count": 2,
   "metadata": {},
   "outputs": [
    {
     "name": "stdout",
     "output_type": "stream",
     "text": [
      "A\n",
      "B\n",
      "C\n",
      "D\n",
      "E\n",
      "F\n",
      "G\n",
      "H\n",
      "I\n",
      "J\n",
      "K\n",
      "L\n",
      "M\n",
      "N\n",
      "O\n",
      "P\n",
      "Q\n",
      "R\n",
      "S\n",
      "T\n",
      "U\n",
      "V\n",
      "W\n",
      "X\n",
      "Y\n",
      "Z\n",
      "nothing\n"
     ]
    }
   ],
   "source": [
    "chars = {\n",
    "    'A': 0,\n",
    "    'B': 1,\n",
    "    'C': 2,\n",
    "    'D': 3,\n",
    "    'E': 4,\n",
    "    'F': 5,\n",
    "    'G': 6,\n",
    "    'H': 7,\n",
    "    'I': 8,\n",
    "    'J': 9,\n",
    "    'K': 10,\n",
    "    'L': 11,\n",
    "    'M': 12,\n",
    "    'N': 13,\n",
    "    'O': 14,\n",
    "    'P': 15,\n",
    "    'Q': 16,\n",
    "    'R': 17,\n",
    "    'S': 18,\n",
    "    'T': 19,\n",
    "    'U': 20,\n",
    "    'V': 21,\n",
    "    'W': 22,\n",
    "    'X': 23,\n",
    "    'Y': 24,\n",
    "    'Z': 25,\n",
    "    'nothing': 26\n",
    "}\n",
    "\n",
    "import os\n",
    "import cv2\n",
    "import numpy as np\n",
    "\n",
    "img_size = 75\n",
    "\n",
    "data_path = './data3'\n",
    "\n",
    "available_keys = [key for key in chars.keys() if os.path.exists(os.path.join(data_path, key))]\n",
    "\n",
    "X = []\n",
    "Y = []\n",
    "\n",
    "for key in available_keys:\n",
    "    print(key)\n",
    "    key_path = os.path.join(data_path, key)\n",
    "    for img_file in os.listdir(key_path):\n",
    "        img_path = os.path.join(key_path, img_file)\n",
    "        img = cv2.resize(cv2.imread(img_path), (img_size, img_size), interpolation = cv2.INTER_AREA)\n",
    "        X.append(img)\n",
    "        Y.append(chars[key])"
   ]
  },
  {
   "cell_type": "code",
   "execution_count": 3,
   "metadata": {},
   "outputs": [
    {
     "data": {
      "text/plain": [
       "(6666, 75, 75, 3)"
      ]
     },
     "execution_count": 3,
     "metadata": {},
     "output_type": "execute_result"
    }
   ],
   "source": [
    "np.array(X).shape"
   ]
  },
  {
   "cell_type": "code",
   "execution_count": 4,
   "metadata": {},
   "outputs": [],
   "source": [
    "from sklearn.model_selection import train_test_split\n",
    "train_X, test_X, train_Y, test_Y = train_test_split(np.array(X), np.array(Y), test_size=0.2)"
   ]
  },
  {
   "cell_type": "code",
   "execution_count": 5,
   "metadata": {},
   "outputs": [],
   "source": [
    "unhot_test_Y = test_Y\n",
    "\n",
    "train_Y = tf.one_hot(train_Y, len(chars)+1)\n",
    "test_Y = tf.one_hot(test_Y, len(chars)+1)"
   ]
  },
  {
   "cell_type": "code",
   "execution_count": 7,
   "metadata": {},
   "outputs": [
    {
     "data": {
      "text/plain": [
       "(-0.5, 74.5, 74.5, -0.5)"
      ]
     },
     "execution_count": 7,
     "metadata": {},
     "output_type": "execute_result"
    },
    {
     "data": {
      "image/png": "[encoded data removed]",
      "text/plain": [
       "<Figure size 360x360 with 1 Axes>"
      ]
     },
     "metadata": {
      "needs_background": "light"
     },
     "output_type": "display_data"
    }
   ],
   "source": [
    "from matplotlib import pyplot as plt\n",
    "\n",
    "plt.figure(figsize=(5,5))\n",
    "plt.imshow(X[0])\n",
    "plt.axis('off')"
   ]
  },
  {
   "cell_type": "code",
   "execution_count": 8,
   "metadata": {},
   "outputs": [
    {
     "data": {
      "text/plain": [
       "<AxesSubplot:xlabel='0'>"
      ]
     },
     "execution_count": 8,
     "metadata": {},
     "output_type": "execute_result"
    },
    {
     "data": {
      "image/png": "[encoded data removed]",
      "text/plain": [
       "<Figure size 432x288 with 1 Axes>"
      ]
     },
     "metadata": {
      "needs_background": "light"
     },
     "output_type": "display_data"
    }
   ],
   "source": [
    "import pandas as pd\n",
    "\n",
    "Y_df = pd.DataFrame(Y)\n",
    "\n",
    "Y_df.value_counts(sort=False).plot.bar(rot=0, xticks=np.arange(len(available_keys)))"
   ]
  },
  {
   "cell_type": "code",
   "execution_count": 9,
   "metadata": {
    "scrolled": true
   },
   "outputs": [
    {
     "name": "stdout",
     "output_type": "stream",
     "text": [
      "Model: \"model\"\n",
      "_________________________________________________________________\n",
      "Layer (type)                 Output Shape              Param #   \n",
      "=================================================================\n",
      "input_1 (InputLayer)         [(None, 75, 75, 3)]       0         \n",
      "_________________________________________________________________\n",
      "block1_conv1 (Conv2D)        (None, 75, 75, 64)        1792      \n",
      "_________________________________________________________________\n",
      "block1_conv2 (Conv2D)        (None, 75, 75, 64)        36928     \n",
      "_________________________________________________________________\n",
      "block1_pool (MaxPooling2D)   (None, 37, 37, 64)        0         \n",
      "_________________________________________________________________\n",
      "block2_conv1 (Conv2D)        (None, 37, 37, 128)       73856     \n",
      "_________________________________________________________________\n",
      "block2_conv2 (Conv2D)        (None, 37, 37, 128)       147584    \n",
      "_________________________________________________________________\n",
      "block2_pool (MaxPooling2D)   (None, 18, 18, 128)       0         \n",
      "_________________________________________________________________\n",
      "block3_conv1 (Conv2D)        (None, 18, 18, 256)       295168    \n",
      "_________________________________________________________________\n",
      "block3_conv2 (Conv2D)        (None, 18, 18, 256)       590080    \n",
      "_________________________________________________________________\n",
      "block3_conv3 (Conv2D)        (None, 18, 18, 256)       590080    \n",
      "_________________________________________________________________\n",
      "block3_pool (MaxPooling2D)   (None, 9, 9, 256)         0         \n",
      "_________________________________________________________________\n",
      "block4_conv1 (Conv2D)        (None, 9, 9, 512)         1180160   \n",
      "_________________________________________________________________\n",
      "block4_conv2 (Conv2D)        (None, 9, 9, 512)         2359808   \n",
      "_________________________________________________________________\n",
      "block4_conv3 (Conv2D)        (None, 9, 9, 512)         2359808   \n",
      "_________________________________________________________________\n",
      "block4_pool (MaxPooling2D)   (None, 4, 4, 512)         0         \n",
      "_________________________________________________________________\n",
      "block5_conv1 (Conv2D)        (None, 4, 4, 512)         2359808   \n",
      "_________________________________________________________________\n",
      "block5_conv2 (Conv2D)        (None, 4, 4, 512)         2359808   \n",
      "_________________________________________________________________\n",
      "block5_conv3 (Conv2D)        (None, 4, 4, 512)         2359808   \n",
      "_________________________________________________________________\n",
      "block5_pool (MaxPooling2D)   (None, 2, 2, 512)         0         \n",
      "_________________________________________________________________\n",
      "global_average_pooling2d (Gl (None, 512)               0         \n",
      "_________________________________________________________________\n",
      "dense (Dense)                (None, 28)                14364     \n",
      "=================================================================\n",
      "Total params: 14,729,052\n",
      "Trainable params: 14,364\n",
      "Non-trainable params: 14,714,688\n",
      "_________________________________________________________________\n"
     ]
    }
   ],
   "source": [
    "from tensorflow.keras.applications import InceptionResNetV2, VGG16\n",
    "\n",
    "base_model = VGG16(include_top=False, input_shape=(img_size, img_size, 3))\n",
    "base_model.trainable = False\n",
    "global_average_layer = tf.keras.layers.GlobalAveragePooling2D()\n",
    "feature_batch_average = global_average_layer(base_model.output)\n",
    "prediction_layer = tf.keras.layers.Dense(len(chars)+1, activation='softmax')(feature_batch_average)\n",
    "model = tf.keras.Model(base_model.input, prediction_layer)\n",
    "\n",
    "opt = tf.keras.optimizers.Adam(lr=0.0001)\n",
    "model.summary()"
   ]
  },
  {
   "cell_type": "code",
   "execution_count": 10,
   "metadata": {},
   "outputs": [],
   "source": [
    "from tensorflow.keras.preprocessing.image import ImageDataGenerator\n",
    "\n",
    "datagen = ImageDataGenerator(\n",
    "        featurewise_center=False,  # set input mean to 0 over the dataset\n",
    "        samplewise_center=False,  # set each sample mean to 0\n",
    "        featurewise_std_normalization=False,  # divide inputs by std of the dataset\n",
    "        samplewise_std_normalization=False,  # divide each input by its std\n",
    "        zca_whitening=False,  # apply ZCA whitening\n",
    "        rotation_range=10,  # randomly rotate images in the range (degrees, 0 to 180)\n",
    "        zoom_range = 0.1, # Randomly zoom image \n",
    "        width_shift_range=0.1,  # randomly shift images horizontally (fraction of total width)\n",
    "        height_shift_range=0.1,  # randomly shift images vertically (fraction of total height)\n",
    "        horizontal_flip=True,  # randomly flip images\n",
    "        vertical_flip=False)  # randomly flip images\n",
    "\n",
    "\n",
    "datagen.fit(train_X)"
   ]
  },
  {
   "cell_type": "code",
   "execution_count": 11,
   "metadata": {},
   "outputs": [],
   "source": [
    "model.compile(optimizer=opt, loss='categorical_crossentropy', metrics=['accuracy'])\n"
   ]
  },
  {
   "cell_type": "code",
   "execution_count": 14,
   "metadata": {
    "scrolled": true
   },
   "outputs": [
    {
     "name": "stdout",
     "output_type": "stream",
     "text": [
      "WARNING:tensorflow:sample_weight modes were coerced from\n",
      "  ...\n",
      "    to  \n",
      "  ['...']\n"
     ]
    },
    {
     "name": "stderr",
     "output_type": "stream",
     "text": [
      "WARNING:tensorflow:sample_weight modes were coerced from\n",
      "  ...\n",
      "    to  \n",
      "  ['...']\n"
     ]
    },
    {
     "name": "stdout",
     "output_type": "stream",
     "text": [
      "Train for 84 steps, validate on 1334 samples\n",
      "Epoch 1/7\n",
      "83/84 [============================>.] - ETA: 0s - loss: 0.1956 - accuracy: 0.9476WARNING:tensorflow:Can save best model only with val_acc available, skipping.\n"
     ]
    },
    {
     "name": "stderr",
     "output_type": "stream",
     "text": [
      "WARNING:tensorflow:Can save best model only with val_acc available, skipping.\n"
     ]
    },
    {
     "name": "stdout",
     "output_type": "stream",
     "text": [
      "84/84 [==============================] - 15s 174ms/step - loss: 0.1939 - accuracy: 0.9479 - val_loss: 0.0667 - val_accuracy: 0.9828\n",
      "Epoch 2/7\n",
      "83/84 [============================>.] - ETA: 0s - loss: 0.1050 - accuracy: 0.9755WARNING:tensorflow:Can save best model only with val_acc available, skipping.\n"
     ]
    },
    {
     "name": "stderr",
     "output_type": "stream",
     "text": [
      "WARNING:tensorflow:Can save best model only with val_acc available, skipping.\n"
     ]
    },
    {
     "name": "stdout",
     "output_type": "stream",
     "text": [
      "84/84 [==============================] - 10s 122ms/step - loss: 0.1065 - accuracy: 0.9756 - val_loss: 0.0515 - val_accuracy: 0.9828\n",
      "Epoch 3/7\n",
      "83/84 [============================>.] - ETA: 0s - loss: 0.0417 - accuracy: 0.9863WARNING:tensorflow:Can save best model only with val_acc available, skipping.\n"
     ]
    },
    {
     "name": "stderr",
     "output_type": "stream",
     "text": [
      "WARNING:tensorflow:Can save best model only with val_acc available, skipping.\n"
     ]
    },
    {
     "name": "stdout",
     "output_type": "stream",
     "text": [
      "84/84 [==============================] - 10s 121ms/step - loss: 0.0420 - accuracy: 0.9863 - val_loss: 0.0278 - val_accuracy: 0.9925\n",
      "Epoch 4/7\n",
      "83/84 [============================>.] - ETA: 0s - loss: 0.0357 - accuracy: 0.9882WARNING:tensorflow:Can save best model only with val_acc available, skipping.\n"
     ]
    },
    {
     "name": "stderr",
     "output_type": "stream",
     "text": [
      "WARNING:tensorflow:Can save best model only with val_acc available, skipping.\n"
     ]
    },
    {
     "name": "stdout",
     "output_type": "stream",
     "text": [
      "84/84 [==============================] - 10s 121ms/step - loss: 0.0356 - accuracy: 0.9882 - val_loss: 0.0134 - val_accuracy: 0.9963\n",
      "Epoch 5/7\n",
      "83/84 [============================>.] - ETA: 0s - loss: 0.0288 - accuracy: 0.9928WARNING:tensorflow:Can save best model only with val_acc available, skipping.\n"
     ]
    },
    {
     "name": "stderr",
     "output_type": "stream",
     "text": [
      "WARNING:tensorflow:Can save best model only with val_acc available, skipping.\n"
     ]
    },
    {
     "name": "stdout",
     "output_type": "stream",
     "text": [
      "84/84 [==============================] - 10s 123ms/step - loss: 0.0286 - accuracy: 0.9927 - val_loss: 0.0146 - val_accuracy: 0.9978\n",
      "Epoch 6/7\n",
      "83/84 [============================>.] - ETA: 0s - loss: 0.0623 - accuracy: 0.9877WARNING:tensorflow:Can save best model only with val_acc available, skipping.\n"
     ]
    },
    {
     "name": "stderr",
     "output_type": "stream",
     "text": [
      "WARNING:tensorflow:Can save best model only with val_acc available, skipping.\n"
     ]
    },
    {
     "name": "stdout",
     "output_type": "stream",
     "text": [
      "84/84 [==============================] - 10s 122ms/step - loss: 0.0660 - accuracy: 0.9874 - val_loss: 0.2821 - val_accuracy: 0.9618\n",
      "Epoch 7/7\n",
      "83/84 [============================>.] - ETA: 0s - loss: 0.0721 - accuracy: 0.9804WARNING:tensorflow:Can save best model only with val_acc available, skipping.\n"
     ]
    },
    {
     "name": "stderr",
     "output_type": "stream",
     "text": [
      "WARNING:tensorflow:Can save best model only with val_acc available, skipping.\n"
     ]
    },
    {
     "name": "stdout",
     "output_type": "stream",
     "text": [
      "\b\b\b\b\b\b\b\b\b\b\b\b\b\b\b\b\b\b\b\b\b\b\b\b\b\b\b\b\b\b\b\b\b\b\b\b\b\b\b\b\b\b\b\b\b\b\b\b\b\b\b\b\b\b\b\b\b\b\b\b\b\b\b\b\b\b\b\b\b\b\b\b\b\b\b\b\b\b\b\b\b\b\r",
      "84/84 [==============================] - 10s 121ms/step - loss: 0.0713 - accuracy: 0.9807 - val_loss: 0.0127 - val_accuracy: 0.9963\n"
     ]
    }
   ],
   "source": [
    "model_checkpoint_callback = tf.keras.callbacks.ModelCheckpoint(\n",
    "    filepath='./alice_checkpoints',\n",
    "    save_weights_only=True,\n",
    "    monitor='val_acc',\n",
    "    mode='max',\n",
    "    save_best_only=True)\n",
    "history = model.fit(datagen.flow(train_X,train_Y, batch_size = 64), epochs=7, \n",
    "          validation_data = (np.array(test_X), np.array(test_Y)), \n",
    "          callbacks=[model_checkpoint_callback])\n",
    "# history = model.fit(np.array(train_X),np.array(train_Y), epochs=10, \n",
    "#           validation_data = (np.array(test_X), np.array(test_Y)), \n",
    "#           callbacks=[model_checkpoint_callback])"
   ]
  },
  {
   "cell_type": "code",
   "execution_count": 15,
   "metadata": {
    "scrolled": true
   },
   "outputs": [
    {
     "name": "stdout",
     "output_type": "stream",
     "text": [
      "(1334, 28)\n",
      "\n",
      "Keras CNN - accuracy: 0.9962519 \n",
      "\n",
      "\n",
      "              precision    recall  f1-score   support\n",
      "\n",
      "           A       1.00      0.98      0.99        56\n",
      "           B       1.00      1.00      1.00        45\n",
      "           C       1.00      1.00      1.00        59\n",
      "           D       1.00      1.00      1.00        57\n",
      "           E       1.00      1.00      1.00        26\n",
      "           F       1.00      1.00      1.00        55\n",
      "           G       1.00      1.00      1.00        59\n",
      "           H       1.00      1.00      1.00        61\n",
      "           I       1.00      1.00      1.00        64\n",
      "           J       1.00      1.00      1.00        39\n",
      "           K       1.00      1.00      1.00        49\n",
      "           L       1.00      1.00      1.00        39\n",
      "           M       0.97      0.98      0.97        57\n",
      "           N       1.00      0.96      0.98        53\n",
      "           O       1.00      1.00      1.00        57\n",
      "           P       1.00      1.00      1.00        55\n",
      "           Q       1.00      1.00      1.00        77\n",
      "           R       1.00      1.00      1.00        57\n",
      "           S       1.00      0.98      0.99        56\n",
      "           T       0.96      1.00      0.98        50\n",
      "           U       1.00      1.00      1.00        39\n",
      "           V       1.00      1.00      1.00        40\n",
      "           W       1.00      1.00      1.00        45\n",
      "           X       0.98      1.00      0.99        44\n",
      "           Y       1.00      1.00      1.00        53\n",
      "           Z       1.00      1.00      1.00        21\n",
      "     nothing       1.00      1.00      1.00        21\n",
      "\n",
      "    accuracy                           1.00      1334\n",
      "   macro avg       1.00      1.00      1.00      1334\n",
      "weighted avg       1.00      1.00      1.00      1334\n",
      "\n"
     ]
    }
   ],
   "source": [
    "import sklearn\n",
    "print(np.array(test_Y).shape)\n",
    "score = model.evaluate(test_X,test_Y, verbose=0)\n",
    "print('\\nKeras CNN - accuracy:', score[1], '\\n')\n",
    "prediction = model.predict(test_X)\n",
    "print('\\n', sklearn.metrics.classification_report(np.where(test_Y > 0)[1], np.argmax(prediction, axis=1), target_names=list(chars.keys())), sep='') "
   ]
  },
  {
   "cell_type": "code",
   "execution_count": 16,
   "metadata": {},
   "outputs": [
    {
     "data": {
      "image/png": "[encoded data removed]",
      "text/plain": [
       "<Figure size 576x576 with 2 Axes>"
      ]
     },
     "metadata": {
      "needs_background": "light"
     },
     "output_type": "display_data"
    }
   ],
   "source": [
    "acc = history.history['accuracy']\n",
    "val_acc = history.history['val_accuracy']\n",
    "\n",
    "loss = history.history['loss']\n",
    "val_loss = history.history['val_loss']\n",
    "\n",
    "plt.figure(figsize=(8, 8))\n",
    "plt.subplot(2, 1, 1)\n",
    "plt.plot(acc, label='Training Accuracy')\n",
    "plt.plot(val_acc, label='Validation Accuracy')\n",
    "plt.legend(loc='lower right')\n",
    "plt.ylabel('Accuracy')\n",
    "plt.ylim([min(plt.ylim()),1])\n",
    "plt.title('Training and Validation Accuracy')\n",
    "\n",
    "plt.subplot(2, 1, 2)\n",
    "plt.plot(loss, label='Training Loss')\n",
    "plt.plot(val_loss, label='Validation Loss')\n",
    "plt.legend(loc='upper right')\n",
    "plt.ylabel('Cross Entropy')\n",
    "plt.ylim([0,1.0])\n",
    "plt.title('Training and Validation Loss')\n",
    "plt.xlabel('epoch')\n",
    "plt.show()\n"
   ]
  },
  {
   "cell_type": "code",
   "execution_count": 17,
   "metadata": {},
   "outputs": [
    {
     "data": {
      "image/png": "[encoded data removed]",
      "text/plain": [
       "<Figure size 576x576 with 2 Axes>"
      ]
     },
     "metadata": {
      "needs_background": "light"
     },
     "output_type": "display_data"
    }
   ],
   "source": [
    "import itertools\n",
    "from sklearn.metrics import confusion_matrix\n",
    "\n",
    "def plot_confusion_matrix(cm, classes,\n",
    "                          normalize=False,\n",
    "                          title='Confusion matrix',\n",
    "                          cmap=plt.cm.Blues):\n",
    "    \"\"\"\n",
    "    This function prints and plots the confusion matrix.\n",
    "    Normalization can be applied by setting `normalize=True`.\n",
    "    \"\"\"\n",
    "    plt.figure(figsize = (8,8))\n",
    "    plt.imshow(cm, interpolation='nearest', cmap=cmap)\n",
    "    plt.title(title)\n",
    "    plt.colorbar()\n",
    "    tick_marks = np.arange(len(classes))\n",
    "    plt.xticks(tick_marks, classes, rotation=90)\n",
    "    plt.yticks(tick_marks, classes)\n",
    "    if normalize:\n",
    "        cm = cm.astype('float') / cm.sum(axis=1)[:, np.newaxis]\n",
    "\n",
    "    thresh = cm.max() / 2.\n",
    "    for i, j in itertools.product(range(cm.shape[0]), range(cm.shape[1])):\n",
    "        plt.text(j, i, cm[i, j],\n",
    "                 horizontalalignment=\"center\",\n",
    "                 color=\"white\" if cm[i, j] > thresh else \"black\")\n",
    "    plt.tight_layout()\n",
    "    plt.ylabel('True label')\n",
    "    plt.xlabel('Predicted label')\n",
    "\n",
    "    \n",
    "\n",
    "confusion_mtx = confusion_matrix(unhot_test_Y, np.argmax(prediction, axis=1))\n",
    "plot_confusion_matrix(confusion_mtx, classes = list(chars.keys()))"
   ]
  },
  {
   "cell_type": "code",
   "execution_count": 18,
   "metadata": {
    "scrolled": true
   },
   "outputs": [
    {
     "name": "stdout",
     "output_type": "stream",
     "text": [
      "WARNING:tensorflow:From C:\\tools\\Anaconda3\\envs\\work\\lib\\site-packages\\tensorflow_core\\python\\ops\\resource_variable_ops.py:1786: calling BaseResourceVariable.__init__ (from tensorflow.python.ops.resource_variable_ops) with constraint is deprecated and will be removed in a future version.\n",
      "Instructions for updating:\n",
      "If using Keras pass *_constraint arguments to layers.\n"
     ]
    },
    {
     "name": "stderr",
     "output_type": "stream",
     "text": [
      "WARNING:tensorflow:From C:\\tools\\Anaconda3\\envs\\work\\lib\\site-packages\\tensorflow_core\\python\\ops\\resource_variable_ops.py:1786: calling BaseResourceVariable.__init__ (from tensorflow.python.ops.resource_variable_ops) with constraint is deprecated and will be removed in a future version.\n",
      "Instructions for updating:\n",
      "If using Keras pass *_constraint arguments to layers.\n"
     ]
    },
    {
     "name": "stdout",
     "output_type": "stream",
     "text": [
      "INFO:tensorflow:Assets written to: alicev3\\assets\n"
     ]
    },
    {
     "name": "stderr",
     "output_type": "stream",
     "text": [
      "INFO:tensorflow:Assets written to: alicev3\\assets\n"
     ]
    }
   ],
   "source": [
    "model.save('alicev3')"
   ]
  },
  {
   "cell_type": "code",
   "execution_count": 13,
   "metadata": {},
   "outputs": [],
   "source": [
    "from tensorflow.keras.models import load_model\n",
    "model = load_model('alicev2')"
   ]
  },
  {
   "cell_type": "code",
   "execution_count": 25,
   "metadata": {},
   "outputs": [
    {
     "data": {
      "text/plain": [
       "array([[[[235,   8,   9],\n",
       "         [194,  27,  26],\n",
       "         [196,  25,  26],\n",
       "         ...,\n",
       "         [189,  17,  22],\n",
       "         [189,  23,  25],\n",
       "         [224,  21,  22]],\n",
       "\n",
       "        [[193,  23,  28],\n",
       "         [ 59,  87,  93],\n",
       "         [ 73,  84, 101],\n",
       "         ...,\n",
       "         [ 59,  69,  85],\n",
       "         [ 89, 111, 117],\n",
       "         [166,  79,  81]],\n",
       "\n",
       "        [[186,  19,  20],\n",
       "         [ 43,  67,  72],\n",
       "         [ 58,  69,  78],\n",
       "         ...,\n",
       "         [115, 119, 122],\n",
       "         [118, 128, 120],\n",
       "         [166,  81,  71]],\n",
       "\n",
       "        ...,\n",
       "\n",
       "        [[224,  49,  46],\n",
       "         [170, 176, 166],\n",
       "         [159, 164, 175],\n",
       "         ...,\n",
       "         [139, 126, 130],\n",
       "         [131, 135, 131],\n",
       "         [185,  84,  81]],\n",
       "\n",
       "        [[227,  50,  45],\n",
       "         [156, 178, 168],\n",
       "         [147, 165, 180],\n",
       "         ...,\n",
       "         [123, 131, 124],\n",
       "         [112, 139, 125],\n",
       "         [172,  87,  78]],\n",
       "\n",
       "        [[233,  31,  28],\n",
       "         [195, 110, 105],\n",
       "         [192, 103, 114],\n",
       "         ...,\n",
       "         [173,  78,  83],\n",
       "         [170,  82,  82],\n",
       "         [202,  54,  53]]],\n",
       "\n",
       "\n",
       "       [[[237,  12,   8],\n",
       "         [204,  29,  30],\n",
       "         [207,  30,  30],\n",
       "         ...,\n",
       "         [197,  24,  24],\n",
       "         [198,  22,  29],\n",
       "         [219,  15,  19]],\n",
       "\n",
       "        [[208,  32,  32],\n",
       "         [113, 122, 113],\n",
       "         [119, 121, 113],\n",
       "         ...,\n",
       "         [ 71,  63,  76],\n",
       "         [ 64,  67,  81],\n",
       "         [133,  44,  50]],\n",
       "\n",
       "        [[215,  44,  32],\n",
       "         [150, 158, 132],\n",
       "         [154, 152, 126],\n",
       "         ...,\n",
       "         [ 72,  61,  76],\n",
       "         [ 62,  59,  73],\n",
       "         [131,  38,  41]],\n",
       "\n",
       "        ...,\n",
       "\n",
       "        [[193,  10,   9],\n",
       "         [ 49,  32,  36],\n",
       "         [ 56,  35,  33],\n",
       "         ...,\n",
       "         [108, 118, 113],\n",
       "         [ 91, 116, 121],\n",
       "         [159,  73,  71]],\n",
       "\n",
       "        [[191,  10,  11],\n",
       "         [ 34,  33,  34],\n",
       "         [ 41,  29,  27],\n",
       "         ...,\n",
       "         [ 93, 117, 122],\n",
       "         [ 80, 116, 125],\n",
       "         [151,  73,  75]],\n",
       "\n",
       "        [[212,   5,   6],\n",
       "         [106,  13,  15],\n",
       "         [106,  12,  11],\n",
       "         ...,\n",
       "         [161,  73,  71],\n",
       "         [150,  73,  75],\n",
       "         [187,  48,  44]]],\n",
       "\n",
       "\n",
       "       [[[233,   4,   7],\n",
       "         [183,  12,  16],\n",
       "         [181,  15,  12],\n",
       "         ...,\n",
       "         [214,  44,  48],\n",
       "         [212,  43,  47],\n",
       "         [230,  27,  30]],\n",
       "\n",
       "        [[187,  11,  16],\n",
       "         [ 25,  37,  53],\n",
       "         [ 26,  37,  58],\n",
       "         ...,\n",
       "         [144, 164, 180],\n",
       "         [134, 164, 181],\n",
       "         [178, 101, 114]],\n",
       "\n",
       "        [[182,  15,  14],\n",
       "         [ 26,  39,  56],\n",
       "         [ 31,  40,  61],\n",
       "         ...,\n",
       "         [150, 165, 180],\n",
       "         [142, 164, 184],\n",
       "         [183, 102, 114]],\n",
       "\n",
       "        ...,\n",
       "\n",
       "        [[208,  36,  30],\n",
       "         [122, 123, 126],\n",
       "         [121, 125, 124],\n",
       "         ...,\n",
       "         [124, 126, 136],\n",
       "         [109, 126, 136],\n",
       "         [169,  76,  85]],\n",
       "\n",
       "        [[203,  34,  34],\n",
       "         [110, 126, 126],\n",
       "         [117, 127, 123],\n",
       "         ...,\n",
       "         [114, 123, 139],\n",
       "         [ 98, 125, 137],\n",
       "         [162,  76,  86]],\n",
       "\n",
       "        [[225,  20,  22],\n",
       "         [163,  78,  80],\n",
       "         [168,  79,  75],\n",
       "         ...,\n",
       "         [170,  78,  80],\n",
       "         [165,  78,  80],\n",
       "         [196,  49,  50]]],\n",
       "\n",
       "\n",
       "       ...,\n",
       "\n",
       "\n",
       "       [[[234,  10,   7],\n",
       "         [191,  22,  27],\n",
       "         [194,  25,  25],\n",
       "         ...,\n",
       "         [195,  24,  28],\n",
       "         [193,  25,  27],\n",
       "         [227,  21,  22]],\n",
       "\n",
       "        [[192,  23,  22],\n",
       "         [ 55,  83,  78],\n",
       "         [ 65,  84,  84],\n",
       "         ...,\n",
       "         [102, 105, 130],\n",
       "         [104, 117, 125],\n",
       "         [173,  83,  81]],\n",
       "\n",
       "        [[191,  16,  16],\n",
       "         [ 42,  57,  56],\n",
       "         [ 40,  62,  62],\n",
       "         ...,\n",
       "         [131, 134, 145],\n",
       "         [120, 127, 132],\n",
       "         [169,  80,  81]],\n",
       "\n",
       "        ...,\n",
       "\n",
       "        [[229,  61,  58],\n",
       "         [219, 231, 235],\n",
       "         [222, 234, 232],\n",
       "         ...,\n",
       "         [125, 112, 114],\n",
       "         [117, 122, 117],\n",
       "         [177,  77,  74]],\n",
       "\n",
       "        [[227,  61,  59],\n",
       "         [211, 233, 232],\n",
       "         [218, 234, 230],\n",
       "         ...,\n",
       "         [115, 119, 109],\n",
       "         [104, 126, 109],\n",
       "         [172,  79,  69]],\n",
       "\n",
       "        [[233,  39,  37],\n",
       "         [219, 147, 147],\n",
       "         [220, 146, 145],\n",
       "         ...,\n",
       "         [169,  71,  72],\n",
       "         [166,  76,  73],\n",
       "         [195,  50,  46]]],\n",
       "\n",
       "\n",
       "       [[[236,  10,   7],\n",
       "         [201,  28,  23],\n",
       "         [203,  26,  27],\n",
       "         ...,\n",
       "         [198,  23,  24],\n",
       "         [196,  21,  28],\n",
       "         [219,  14,  17]],\n",
       "\n",
       "        [[206,  30,  30],\n",
       "         [105, 114,  95],\n",
       "         [111, 111, 102],\n",
       "         ...,\n",
       "         [ 69,  64,  74],\n",
       "         [ 66,  69,  79],\n",
       "         [137,  44,  48]],\n",
       "\n",
       "        [[215,  40,  30],\n",
       "         [140, 147, 115],\n",
       "         [141, 139, 116],\n",
       "         ...,\n",
       "         [ 70,  59,  70],\n",
       "         [ 60,  57,  68],\n",
       "         [125,  37,  37]],\n",
       "\n",
       "        ...,\n",
       "\n",
       "        [[190,   8,   7],\n",
       "         [ 43,  26,  27],\n",
       "         [ 52,  30,  21],\n",
       "         ...,\n",
       "         [ 95, 108, 104],\n",
       "         [ 81, 106, 111],\n",
       "         [153,  67,  64]],\n",
       "\n",
       "        [[190,  11,   8],\n",
       "         [ 33,  32,  29],\n",
       "         [ 41,  28,  23],\n",
       "         ...,\n",
       "         [ 87, 105, 112],\n",
       "         [ 72, 106, 116],\n",
       "         [147,  67,  69]],\n",
       "\n",
       "        [[212,   7,   3],\n",
       "         [105,  13,  11],\n",
       "         [105,  11,   9],\n",
       "         ...,\n",
       "         [145,  70,  65],\n",
       "         [141,  68,  68],\n",
       "         [182,  45,  39]]],\n",
       "\n",
       "\n",
       "       [[[234,   2,   3],\n",
       "         [180,   4,   5],\n",
       "         [179,   4,   6],\n",
       "         ...,\n",
       "         [184,  10,  15],\n",
       "         [189,  16,  21],\n",
       "         [215,  11,  13]],\n",
       "\n",
       "        [[178,   5,   7],\n",
       "         [ 12,  10,  16],\n",
       "         [  7,   5,  26],\n",
       "         ...,\n",
       "         [ 44,  47,  61],\n",
       "         [ 42,  57,  63],\n",
       "         [121,  36,  39]],\n",
       "\n",
       "        [[176,   7,   7],\n",
       "         [  8,  12,  22],\n",
       "         [  9,   6,  27],\n",
       "         ...,\n",
       "         [ 48,  53,  69],\n",
       "         [ 42,  49,  58],\n",
       "         [117,  31,  33]],\n",
       "\n",
       "        ...,\n",
       "\n",
       "        [[208,  38,  34],\n",
       "         [131, 137, 142],\n",
       "         [136, 141, 140],\n",
       "         ...,\n",
       "         [233, 224, 202],\n",
       "         [225, 229, 202],\n",
       "         [223, 145, 127]],\n",
       "\n",
       "        [[207,  38,  36],\n",
       "         [120, 143, 143],\n",
       "         [118, 146, 140],\n",
       "         ...,\n",
       "         [227, 226, 205],\n",
       "         [223, 229, 204],\n",
       "         [225, 144, 128]],\n",
       "\n",
       "        [[227,  23,  23],\n",
       "         [174,  87,  89],\n",
       "         [169,  92,  89],\n",
       "         ...,\n",
       "         [225, 141, 131],\n",
       "         [226, 144, 131],\n",
       "         [221,  91,  82]]]], dtype=uint8)"
      ]
     },
     "execution_count": 25,
     "metadata": {},
     "output_type": "execute_result"
    }
   ],
   "source": [
    "test_X"
   ]
  },
  {
   "cell_type": "code",
   "execution_count": null,
   "metadata": {},
   "outputs": [],
   "source": []
  }
 ],
 "metadata": {
  "kernelspec": {
   "display_name": "Python 3",
   "language": "python",
   "name": "python3"
  },
  "language_info": {
   "codemirror_mode": {
    "name": "ipython",
    "version": 3
   },
   "file_extension": ".py",
   "mimetype": "text/x-python",
   "name": "python",
   "nbconvert_exporter": "python",
   "pygments_lexer": "ipython3",
   "version": "3.7.0"
  }
 },
 "nbformat": 4,
 "nbformat_minor": 4
}
