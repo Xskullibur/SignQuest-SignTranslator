{
 "cells": [
  {
   "cell_type": "code",
   "execution_count": 6,
   "metadata": {
    "collapsed": true,
    "pycharm": {
     "is_executing": false
    }
   },
   "outputs": [
    {
     "data": {
      "text/plain": "'D:\\\\Documents\\\\Education\\\\Diploma Competitions\\\\Splash Awards 2020\\\\SignQuest-SignTranslator\\\\input\\\\videos\\\\00414.mp4'"
     },
     "metadata": {},
     "output_type": "execute_result",
     "execution_count": 6
    }
   ],
   "source": [
    "import cv2\n",
    "from IPython.display import Video\n",
    "import numpy as np\n",
    "import os\n",
    "\n",
    "VIDEO_DIR = 'D:\\Documents\\Education\\Diploma Competitions\\Splash Awards 2020\\SignQuest-SignTranslator\\input\\\\videos\\\\00414.mp4'\n",
    "VIDEO_DIR"
   ]
  },
  {
   "cell_type": "code",
   "execution_count": 10,
   "outputs": [
    {
     "data": {
      "text/plain": "(True,\n array([[[ 55, 125, 205],\n         [ 57, 127, 207],\n         [ 62, 132, 212],\n         ...,\n         [ 51, 123, 212],\n         [ 51, 123, 212],\n         [ 51, 123, 212]],\n \n        [[ 55, 125, 205],\n         [ 58, 128, 208],\n         [ 63, 133, 213],\n         ...,\n         [ 51, 123, 212],\n         [ 51, 123, 212],\n         [ 51, 123, 212]],\n \n        [[ 58, 127, 205],\n         [ 60, 129, 207],\n         [ 66, 135, 213],\n         ...,\n         [ 51, 123, 212],\n         [ 51, 123, 212],\n         [ 51, 123, 212]],\n \n        ...,\n \n        [[ 47, 102, 173],\n         [ 48, 103, 174],\n         [ 51, 106, 177],\n         ...,\n         [ 52, 104, 178],\n         [ 52, 104, 178],\n         [ 52, 104, 178]],\n \n        [[ 45, 100, 171],\n         [ 47, 102, 173],\n         [ 50, 105, 176],\n         ...,\n         [ 52, 104, 178],\n         [ 52, 104, 178],\n         [ 52, 104, 178]],\n \n        [[ 45, 100, 171],\n         [ 46, 101, 172],\n         [ 50, 105, 176],\n         ...,\n         [ 52, 104, 178],\n         [ 52, 104, 178],\n         [ 52, 104, 178]]], dtype=uint8))"
     },
     "metadata": {},
     "output_type": "execute_result",
     "execution_count": 10
    }
   ],
   "source": [
    "video = cv2.VideoCapture(VIDEO_DIR)\n",
    "video.read()"
   ],
   "metadata": {
    "collapsed": false,
    "pycharm": {
     "name": "#%%\n",
     "is_executing": false
    }
   }
  },
  {
   "cell_type": "code",
   "execution_count": 7,
   "outputs": [],
   "source": [
    "\n"
   ],
   "metadata": {
    "collapsed": false,
    "pycharm": {
     "name": "#%%\n",
     "is_executing": false
    }
   }
  }
 ],
 "metadata": {
  "kernelspec": {
   "display_name": "Python 3",
   "language": "python",
   "name": "python3"
  },
  "language_info": {
   "codemirror_mode": {
    "name": "ipython",
    "version": 2
   },
   "file_extension": ".py",
   "mimetype": "text/x-python",
   "name": "python",
   "nbconvert_exporter": "python",
   "pygments_lexer": "ipython2",
   "version": "2.7.6"
  },
  "pycharm": {
   "stem_cell": {
    "cell_type": "raw",
    "source": [],
    "metadata": {
     "collapsed": false
    }
   }
  }
 },
 "nbformat": 4,
 "nbformat_minor": 0
}